{
 "cells": [
  {
   "cell_type": "code",
   "execution_count": 71,
   "metadata": {},
   "outputs": [],
   "source": [
    "import jax\n",
    "import flax\n",
    "import networkx as nx\n",
    "import jax.numpy as jnp"
   ]
  },
  {
   "cell_type": "code",
   "execution_count": 72,
   "metadata": {},
   "outputs": [],
   "source": [
    "@flax.struct.dataclass\n",
    "class GraphState:\n",
    "    nodes: jnp.array\n",
    "    senders: jnp.array\n",
    "    receivers: jnp.array\n",
    "    edges: jnp.array\n",
    "\n",
    "    def unpack(self):\n",
    "        return self.nodes, self.senders, self.receivers, self.edges"
   ]
  },
  {
   "cell_type": "code",
   "execution_count": 73,
   "metadata": {},
   "outputs": [],
   "source": [
    "def plot_network(graph_state: GraphState) -> None:\n",
    "    def convert_state_to_networkx_graph(graph_state) -> nx.Graph:\n",
    "        nodes, senders, receivers, edges = graph_state.unpack()\n",
    "        n_nodes = len(nodes)\n",
    "        n_edges = len(edges)\n",
    "        nx_graph = nx.DiGraph()\n",
    "\n",
    "        if nodes is None:\n",
    "            for n in range(n_nodes):\n",
    "                nx_graph.add_node(n)\n",
    "        else:\n",
    "            for n in range(n_nodes):\n",
    "                nx_graph.add_node(n, node_feature=nodes[n])\n",
    "        if edges is None:\n",
    "            for e in range(n_edges):\n",
    "                nx_graph.add_edge(int(senders[e]), int(receivers[e]))\n",
    "        else:\n",
    "            for e in range(n_edges):\n",
    "                nx_graph.add_edge(\n",
    "                    int(senders[e]), int(receivers[e]), edge_feature=edges[e]\n",
    "                )\n",
    "        return nx_graph\n",
    "\n",
    "    nx_graph = convert_state_to_networkx_graph(graph_state)\n",
    "    pos = nx.spring_layout(nx_graph)\n",
    "    nx.draw(nx_graph, pos=pos, with_labels=True, node_size=500, font_color=\"yellow\")"
   ]
  },
  {
   "cell_type": "code",
   "execution_count": 74,
   "metadata": {},
   "outputs": [],
   "source": [
    "n_nodes = 7\n",
    "nodes = jnp.zeros(n_nodes)\n",
    "senders = jnp.array([0, 1, 1, 2, 3, 4, 6])\n",
    "receivers = jnp.array([3, 3, 4, 6, 5, 5, 5])\n",
    "edges = jnp.ones(len(senders))"
   ]
  },
  {
   "cell_type": "code",
   "execution_count": 75,
   "metadata": {},
   "outputs": [],
   "source": [
    "activation_mask = jnp.array([1, 1, 1, 0, 0, 0, 0])\n",
    "output_mask = jnp.array([0, 0, 0, 0, 1, 0, 0])\n",
    "activations = jnp.zeros(len(nodes))"
   ]
  },
  {
   "cell_type": "code",
   "execution_count": 76,
   "metadata": {},
   "outputs": [
    {
     "data": {
      "text/plain": [
       "Array([1., 1., 1., 0., 0., 0., 0.], dtype=float32)"
      ]
     },
     "execution_count": 76,
     "metadata": {},
     "output_type": "execute_result"
    }
   ],
   "source": [
    "inputs = jnp.array([1, 1, 1])\n",
    "n_inputs = len(inputs)\n",
    "activations = activations.at[:n_inputs].set(inputs)\n",
    "activations\n"
   ]
  },
  {
   "cell_type": "code",
   "execution_count": 98,
   "metadata": {},
   "outputs": [
    {
     "data": {
      "image/png": "[encoded data removed]",
      "text/plain": [
       "<Figure size 640x480 with 1 Axes>"
      ]
     },
     "metadata": {},
     "output_type": "display_data"
    }
   ],
   "source": [
    "graph_state = GraphState(nodes, senders, receivers, edges)\n",
    "plot_network(graph_state)"
   ]
  },
  {
   "cell_type": "markdown",
   "metadata": {},
   "source": [
    "### ***Pseudo-code: Forward Pass***\n",
    "\n",
    "```python\n",
    "while output not received all activations:\n",
    "    # iterate through neurons activated at step n\n",
    "    for activated neurons:\n",
    "        # transmit activation to receiver neuron\n",
    "        nodes[receiver] += nodes[activated]\n",
    "    # compute the activation function when a neuron\n",
    "    # has received all activations from its input neurons\n",
    "    if receiver received all activations:\n",
    "        nodes[receiver] = activation(nodes[receiver])\n",
    "    # update activation mask for next iteration\n",
    "    activation_mask = zeros.at[receivers].set(1)\n",
    "```"
   ]
  },
  {
   "cell_type": "code",
   "execution_count": 80,
   "metadata": {},
   "outputs": [
    {
     "data": {
      "text/plain": [
       "Array([1., 1., 1., 0., 0., 0., 0.], dtype=float32)"
      ]
     },
     "execution_count": 80,
     "metadata": {},
     "output_type": "execute_result"
    }
   ],
   "source": [
    "def update_activations(sender, receiver, nodes):\n",
    "    return nodes.at[receiver].add(nodes[sender])\n",
    "\n",
    "activations"
   ]
  },
  {
   "cell_type": "code",
   "execution_count": 86,
   "metadata": {},
   "outputs": [
    {
     "data": {
      "text/plain": [
       "Array([3, 3, 4], dtype=int32)"
      ]
     },
     "execution_count": 86,
     "metadata": {},
     "output_type": "execute_result"
    }
   ],
   "source": [
    "receivers.at[jnp.nonzero(receivers * activation_mask)].get()"
   ]
  },
  {
   "cell_type": "code",
   "execution_count": 91,
   "metadata": {},
   "outputs": [
    {
     "data": {
      "text/plain": [
       "Array([0, 1, 1, 2, 3, 4, 6], dtype=int32)"
      ]
     },
     "execution_count": 91,
     "metadata": {},
     "output_type": "execute_result"
    }
   ],
   "source": [
    "senders"
   ]
  },
  {
   "cell_type": "code",
   "execution_count": 92,
   "metadata": {},
   "outputs": [
    {
     "data": {
      "text/plain": [
       "Array([3, 3, 4, 6, 5, 5, 5], dtype=int32)"
      ]
     },
     "execution_count": 92,
     "metadata": {},
     "output_type": "execute_result"
    }
   ],
   "source": [
    "receivers"
   ]
  },
  {
   "cell_type": "code",
   "execution_count": 89,
   "metadata": {},
   "outputs": [
    {
     "data": {
      "text/plain": [
       "(Array([1, 2], dtype=int32),)"
      ]
     },
     "execution_count": 89,
     "metadata": {},
     "output_type": "execute_result"
    }
   ],
   "source": [
    "jnp.nonzero(senders * activation_mask, )"
   ]
  },
  {
   "cell_type": "code",
   "execution_count": null,
   "metadata": {},
   "outputs": [],
   "source": [
    "jax.lax.scan(update_activations, (nodes), (senders, receivers))"
   ]
  },
  {
   "cell_type": "code",
   "execution_count": 79,
   "metadata": {},
   "outputs": [],
   "source": [
    "# for activated in jnp.where(activation_mask == 1)[0]:\n",
    "#     receiver = receivers[activated]\n",
    "#     print(receiver, activations[activated])\n",
    "#     nodes = nodes.at[receiver].add(activations[activated])\n",
    "\n",
    "# nodes"
   ]
  }
 ],
 "metadata": {
  "kernelspec": {
   "display_name": "neat-jax-_g-xH7G6-py3.10",
   "language": "python",
   "name": "python3"
  },
  "language_info": {
   "codemirror_mode": {
    "name": "ipython",
    "version": 3
   },
   "file_extension": ".py",
   "mimetype": "text/x-python",
   "name": "python",
   "nbconvert_exporter": "python",
   "pygments_lexer": "ipython3",
   "version": "3.10.7"
  }
 },
 "nbformat": 4,
 "nbformat_minor": 2
}

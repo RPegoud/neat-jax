{
 "cells": [
  {
   "cell_type": "code",
   "execution_count": 1,
   "metadata": {},
   "outputs": [],
   "source": [
    "import sys\n",
    "import jax\n",
    "import jax.numpy as jnp\n",
    "from jax import random\n",
    "from functools import partial\n",
    "import chex\n",
    "\n",
    "sys.path.append(\"../\")\n",
    "\n",
    "from neat_jax import Network, ActivationState, make_network, plot_network, Mutations"
   ]
  },
  {
   "cell_type": "code",
   "execution_count": 2,
   "metadata": {},
   "outputs": [
    {
     "data": {
      "image/png": "[encoded data removed]",
      "text/plain": [
       "<Figure size 640x480 with 1 Axes>"
      ]
     },
     "metadata": {},
     "output_type": "display_data"
    }
   ],
   "source": [
    "max_nodes = 10\n",
    "key = jax.random.PRNGKey(0)\n",
    "\n",
    "init_params = {\n",
    "    \"max_nodes\": max_nodes,\n",
    "    \"senders\": jnp.array([0, 1, 1, 2, 2, 4, 5, 5]),\n",
    "    \"receivers\": jnp.array([4, 4, 5, 3, 5, 5, 3, 6]),\n",
    "    \"weights\": jnp.array([1, 1, 1, 1, 1, 1, 1, 1]),\n",
    "    \"activation_indices\": jnp.array([0, 0, 0, 0, 0, 0, 0]),\n",
    "    \"node_types\": jnp.array([0, 0, 0, 2, 1, 1, 2]),\n",
    "    \"inputs\": jnp.array([0.4, 0.3, 0.5]),\n",
    "    \"output_size\": 2,\n",
    "}\n",
    "\n",
    "activation_state, net = make_network(**init_params)\n",
    "\n",
    "plot_network(net)"
   ]
  },
  {
   "cell_type": "code",
   "execution_count": 3,
   "metadata": {},
   "outputs": [
    {
     "data": {
      "text/plain": [
       "Array([1., 1., 1., 1., 1., 1., 1., 1., 0., 0.], dtype=float32)"
      ]
     },
     "execution_count": 3,
     "metadata": {},
     "output_type": "execute_result"
    }
   ],
   "source": [
    "net.weights"
   ]
  },
  {
   "cell_type": "code",
   "execution_count": 4,
   "metadata": {},
   "outputs": [
    {
     "name": "stdout",
     "output_type": "stream",
     "text": [
      "node_indices: [0 1 2 3 4 5 6 7 8 9]\n",
      "node_types: [0 0 0 2 1 1 2 3 3 3]\n",
      "activation_indices: [0 0 0 0 0 0 0 0 0 0]\n",
      "weights: [1. 1. 1. 1. 1. 1. 1. 1. 0. 0.]\n",
      "senders: [  0   1   1   2   2   4   5   5 -10 -10]\n",
      "receivers: [  4   4   5   3   5   5   3   6 -10 -10]\n",
      "output_size: 2\n"
     ]
    },
    {
     "data": {
      "text/plain": []
     },
     "execution_count": 4,
     "metadata": {},
     "output_type": "execute_result"
    }
   ],
   "source": [
    "net"
   ]
  },
  {
   "cell_type": "code",
   "execution_count": 5,
   "metadata": {},
   "outputs": [
    {
     "name": "stdout",
     "output_type": "stream",
     "text": [
      "node_indices: [0 1 2 3 4 5 6 7 8 9]\n",
      "node_types: [0 0 0 2 1 3 3 3 3 3]\n",
      "activation_indices: [0 0 0 0 0 0 0 0 0 0]\n",
      "weights: [1. 1. 1. 1. 0. 0. 0. 0. 0. 0.]\n",
      "senders: [  0   1   2   4 -10 -10 -10 -10 -10 -10]\n",
      "receivers: [  4   4   3   3 -10 -10 -10 -10 -10 -10]\n",
      "output_size: 1\n"
     ]
    },
    {
     "data": {
      "text/plain": []
     },
     "execution_count": 5,
     "metadata": {},
     "output_type": "execute_result"
    }
   ],
   "source": [
    "topology_config_0 = {\n",
    "    \"max_nodes\": 10,\n",
    "    \"senders\": jnp.array([0, 1, 2, 4]),\n",
    "    \"receivers\": jnp.array([4, 4, 3, 3]),\n",
    "    \"weights\": jnp.array([1, 1, 1, 1]),\n",
    "    \"activation_indices\": jnp.array([0, 0, 0, 0, 0]),\n",
    "    \"node_types\": jnp.array([0, 0, 0, 2, 1]),\n",
    "    \"inputs\": jnp.array([0.5, 0.8, 0.2]),\n",
    "    \"output_size\": 1,\n",
    "}\n",
    "mutation_config_certain = {\n",
    "    \"weight_shift_rate\": 1,\n",
    "    \"weight_mutation_rate\": 1,\n",
    "    \"add_node_rate\": 1,\n",
    "    \"add_connection_rate\": 1,\n",
    "}\n",
    "key = random.PRNGKey(1)\n",
    "activation_state, net = make_network(**topology_config_0)\n",
    "mutations = Mutations(max_nodes=max_nodes, **mutation_config_certain)\n",
    "\n",
    "net"
   ]
  },
  {
   "cell_type": "code",
   "execution_count": 6,
   "metadata": {},
   "outputs": [
    {
     "name": "stdout",
     "output_type": "stream",
     "text": [
      "[0.9356227 1.0769619 0.9701904 1.0478588 0.        0.        0.\n",
      " 0.        0.        0.       ]\n",
      "[-0.06437729  0.07696184 -0.02980961  0.04785879  0.          0.\n",
      "  0.          0.          0.          0.        ]\n",
      "node_indices: [0 1 2 3 4 5 6 7 8 9]\n",
      "node_types: [0 0 0 2 1 1 3 3 3 3]\n",
      "activation_indices: [0 0 0 0 4 0 0 0 0 0]\n",
      "weights: [ 1.          1.          0.          1.         -0.00611208 -0.10968596\n",
      "  0.          0.          0.          0.        ]\n",
      "senders: [  0   1  -2   4   2   5 -10 -10 -10 -10]\n",
      "receivers: [  4   4  -3   3   5   3 -10 -10 -10 -10]\n",
      "output_size: 1\n",
      "\n"
     ]
    }
   ],
   "source": [
    "print(mutations.weight_shift(net, key, 0.1).weights)\n",
    "print(mutations.weight_mutation(net, key, 0.1).weights)\n",
    "print(mutations.add_node(net, key, 0.1))"
   ]
  },
  {
   "cell_type": "code",
   "execution_count": 24,
   "metadata": {},
   "outputs": [
    {
     "name": "stdout",
     "output_type": "stream",
     "text": [
      "node_indices: [0 1 2 3 4 5 6 7]\n",
      "node_types: [0 0 0 2 1 1 2 3]\n",
      "activation_indices: [0 0 0 0 0 0 0 0]\n",
      "weights: [1. 1. 1. 1. 1. 1. 1. 1.]\n",
      "senders: [0 1 1 2 2 4 5 5]\n",
      "receivers: [4 4 5 3 5 5 3 6]\n",
      "output_size: 2\n"
     ]
    },
    {
     "data": {
      "text/plain": []
     },
     "execution_count": 24,
     "metadata": {},
     "output_type": "execute_result"
    }
   ],
   "source": [
    "topology_config_0 = {\n",
    "    \"max_nodes\": 8,\n",
    "    \"senders\": jnp.array([0, 1, 1, 2, 2, 4, 5, 5]),\n",
    "    \"receivers\": jnp.array([4, 4, 5, 3, 5, 5, 3, 6]),\n",
    "    \"weights\": jnp.array([1, 1, 1, 1, 1, 1, 1, 1]),\n",
    "    \"activation_indices\": jnp.array([0, 0, 0, 0, 0, 0, 0]),\n",
    "    \"node_types\": jnp.array([0, 0, 0, 2, 1, 1, 2]),\n",
    "    \"inputs\": jnp.array([0.4, 0.3, 0.5]),\n",
    "    \"output_size\": 2,\n",
    "}\n",
    "mutation_config_certain = {\n",
    "    \"weight_shift_rate\": 1,\n",
    "    \"weight_mutation_rate\": 1,\n",
    "    \"add_node_rate\": 1,\n",
    "    \"add_connection_rate\": 1,\n",
    "}\n",
    "key = random.PRNGKey(1)\n",
    "activation_state, net = make_network(**topology_config_0)\n",
    "mutations = Mutations(max_nodes=max_nodes, **mutation_config_certain)\n",
    "\n",
    "net"
   ]
  },
  {
   "cell_type": "code",
   "execution_count": 25,
   "metadata": {},
   "outputs": [
    {
     "data": {
      "image/png": "[encoded data removed]",
      "text/plain": [
       "<Figure size 640x480 with 1 Axes>"
      ]
     },
     "metadata": {},
     "output_type": "display_data"
    }
   ],
   "source": [
    "plot_network(net)"
   ]
  },
  {
   "cell_type": "code",
   "execution_count": 18,
   "metadata": {},
   "outputs": [
    {
     "data": {
      "text/plain": [
       "Array(4, dtype=int32)"
      ]
     },
     "execution_count": 18,
     "metadata": {},
     "output_type": "execute_result"
    }
   ],
   "source": [
    "# select a sender node that is either of type 0 or 1\n",
    "valid_senders = jnp.int32(net.node_types < 2)\n",
    "selected = random.choice(\n",
    "    key,\n",
    "    jnp.arange(max_nodes) * valid_senders,\n",
    "    p=valid_senders / valid_senders.sum(),\n",
    ")\n",
    "# select possible receivers:\n",
    "# not already connected, receiver type > sender type but !=3\n",
    "# valid_receivers = "
   ]
  },
  {
   "cell_type": "code",
   "execution_count": 19,
   "metadata": {},
   "outputs": [
    {
     "data": {
      "text/plain": [
       "Array([0.25, 0.25, 0.25, 0.  , 0.25, 0.  , 0.  , 0.  , 0.  , 0.  ],      dtype=float32)"
      ]
     },
     "execution_count": 19,
     "metadata": {},
     "output_type": "execute_result"
    }
   ],
   "source": [
    "valid_senders / valid_senders.sum()"
   ]
  },
  {
   "cell_type": "code",
   "execution_count": null,
   "metadata": {},
   "outputs": [],
   "source": [
    "def add_edge(net, key, max_nodes):\n",
    "    # select input or hidden nodes as senders\n",
    "    # compute available receivers\n",
    "    # select hidden or output nodes as receivers\n",
    "    # \n",
    "    #\n",
    "    pass"
   ]
  }
 ],
 "metadata": {
  "kernelspec": {
   "display_name": "neat-jax-_g-xH7G6-py3.10",
   "language": "python",
   "name": "python3"
  },
  "language_info": {
   "codemirror_mode": {
    "name": "ipython",
    "version": 3
   },
   "file_extension": ".py",
   "mimetype": "text/x-python",
   "name": "python",
   "nbconvert_exporter": "python",
   "pygments_lexer": "ipython3",
   "version": "3.10.7"
  }
 },
 "nbformat": 4,
 "nbformat_minor": 2
}

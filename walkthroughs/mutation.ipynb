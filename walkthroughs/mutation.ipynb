{
 "cells": [
  {
   "cell_type": "code",
   "execution_count": 14,
   "metadata": {},
   "outputs": [],
   "source": [
    "import sys\n",
    "import jax\n",
    "import jax.numpy as jnp\n",
    "from jax import random\n",
    "from functools import partial\n",
    "import chex\n",
    "import numpy as np\n",
    "\n",
    "sys.path.append(\"../\")\n",
    "\n",
    "from neat_jax import (\n",
    "    Network,\n",
    "    ActivationState,\n",
    "    make_network,\n",
    "    plot_network,\n",
    "    Mutations,\n",
    "    update_depth,\n",
    "    cartesian_product,\n",
    ")"
   ]
  },
  {
   "cell_type": "code",
   "execution_count": 7,
   "metadata": {},
   "outputs": [
    {
     "name": "stdout",
     "output_type": "stream",
     "text": [
      "input_size: 3\n",
      "output_size: 1\n",
      "max_nodes: 10\n",
      "node_indices: [0 1 2 3 4 5 6 7 8 9]\n",
      "node_types: [0 0 0 2 1 3 3 3 3 3]\n",
      "activation_fns: [0 0 0 0 0 0 0 0 0 0]\n",
      "senders: [  0   1   2   4 -10 -10 -10 -10 -10 -10]\n",
      "receivers: [  4   4   3   3 -10 -10 -10 -10 -10 -10]\n",
      "weights: [1. 1. 1. 1. 0. 0. 0. 0. 0. 0.]\n"
     ]
    },
    {
     "data": {
      "text/plain": []
     },
     "execution_count": 7,
     "metadata": {},
     "output_type": "execute_result"
    }
   ],
   "source": [
    "topology_config_0 = {\n",
    "    \"max_nodes\": 10,\n",
    "    \"senders\": jnp.array([0, 1, 2, 4]),\n",
    "    \"receivers\": jnp.array([4, 4, 3, 3]),\n",
    "    \"weights\": jnp.array([1, 1, 1, 1]),\n",
    "    \"activation_fns\": jnp.array([0, 0, 0, 0, 0]),\n",
    "    \"node_types\": jnp.array([0, 0, 0, 2, 1]),\n",
    "    \"inputs\": jnp.array([0.5, 0.8, 0.2]),\n",
    "    \"output_size\": 1,\n",
    "}\n",
    "mutation_config_certain = {\n",
    "    \"weight_shift_rate\": 1,\n",
    "    \"weight_mutation_rate\": 1,\n",
    "    \"add_node_rate\": 1,\n",
    "    \"add_connection_rate\": 1,\n",
    "}\n",
    "mutation_config_null = {\n",
    "    \"weight_shift_rate\": 0.0,\n",
    "    \"weight_mutation_rate\": 0.0,\n",
    "    \"add_node_rate\": 0.0,\n",
    "    \"add_connection_rate\": 0.0,\n",
    "}\n",
    "mutation_config_0_5 = {\n",
    "    \"weight_shift_rate\": 0.5,\n",
    "    \"weight_mutation_rate\": 0.5,\n",
    "    \"add_node_rate\": 0.5,\n",
    "    \"add_connection_rate\": 0.5,\n",
    "}\n",
    "\n",
    "key = random.PRNGKey(0)\n",
    "activation_state, net = make_network(**topology_config_0)\n",
    "net"
   ]
  },
  {
   "cell_type": "code",
   "execution_count": 8,
   "metadata": {},
   "outputs": [
    {
     "name": "stdout",
     "output_type": "stream",
     "text": [
      "--------------------\n",
      "Add node network\n",
      "input_size: 3\n",
      "output_size: 1\n",
      "max_nodes: 10\n",
      "node_indices: [0 1 2 3 4 5 6 7 8 9]\n",
      "node_types: [0 0 0 2 1 3 3 3 3 3]\n",
      "activation_fns: [0 0 0 0 0 0 0 0 0 0]\n",
      "senders: [  0   1   2   4 -10 -10 -10 -10 -10 -10]\n",
      "receivers: [  4   4   3   3 -10 -10 -10 -10 -10 -10]\n",
      "weights: [1. 1. 1. 1. 0. 0. 0. 0. 0. 0.]\n",
      "values: [0.5 0.8 0.2 0.  0.  0.  0.  0.  0.  0. ]\n",
      "toggled: [1 1 1 0 0 0 0 0 0 0]\n",
      "activation_counts: [0 0 0 0 0 0 0 0 0 0]\n",
      "has_fired: [0 0 0 0 0 0 0 0 0 0]\n",
      "node_depths: [0 0 0 0 0 0 0 0 0 0]\n",
      "outdated_depths: True\n",
      "(, )\n",
      "Add connection network\n",
      "input_size: 3\n",
      "output_size: 1\n",
      "max_nodes: 10\n",
      "node_indices: [0 1 2 3 4 5 6 7 8 9]\n",
      "node_types: [0 0 0 2 1 3 3 3 3 3]\n",
      "activation_fns: [0 0 0 0 0 0 0 0 0 0]\n",
      "senders: [  0   1   2   4 -10 -10 -10 -10 -10 -10]\n",
      "receivers: [  4   4   3   3 -10 -10 -10 -10 -10 -10]\n",
      "weights: [1. 1. 1. 1. 0. 0. 0. 0. 0. 0.]\n",
      "values: [0.5 0.8 0.2 0.  0.  0.  0.  0.  0.  0. ]\n",
      "toggled: [1 1 1 0 0 0 0 0 0 0]\n",
      "activation_counts: [0 0 0 0 0 0 0 0 0 0]\n",
      "has_fired: [0 0 0 0 0 0 0 0 0 0]\n",
      "node_depths: [0 0 0 0 0 0 0 0 0 0]\n",
      "outdated_depths: True\n",
      "(, )\n",
      "--------------------\n",
      "Add node network\n",
      "input_size: 3\n",
      "output_size: 1\n",
      "max_nodes: 10\n",
      "node_indices: [0 1 2 3 4 5 6 7 8 9]\n",
      "node_types: [0 0 0 2 1 1 3 3 3 3]\n",
      "activation_fns: [0 0 0 0 4 0 0 0 0 0]\n",
      "senders: [  0   1  -2   4   2   5 -10 -10 -10 -10]\n",
      "receivers: [  4   4  -3   3   5   3 -10 -10 -10 -10]\n",
      "weights: [ 1.          1.          0.          1.         -0.06112079 -1.0968596\n",
      "  0.          0.          0.          0.        ]\n",
      "values: [0.5 0.8 0.2 0.  0.  0.  0.  0.  0.  0. ]\n",
      "toggled: [1 1 1 0 0 0 0 0 0 0]\n",
      "activation_counts: [0 0 0 0 0 0 0 0 0 0]\n",
      "has_fired: [0 0 0 0 0 0 0 0 0 0]\n",
      "node_depths: [0 0 0 0 0 0 0 0 0 0]\n",
      "outdated_depths: True\n",
      "(, )\n",
      "Add connection network\n",
      "input_size: 3\n",
      "output_size: 1\n",
      "max_nodes: 10\n",
      "node_indices: [0 1 2 3 4 5 6 7 8 9]\n",
      "node_types: [0 0 0 2 1 3 3 3 3 3]\n",
      "activation_fns: [0 0 0 0 0 0 0 0 0 0]\n",
      "senders: [  0   1   2   4 -10 -10 -10 -10 -10 -10]\n",
      "receivers: [  4   4   3   3 -10 -10 -10 -10 -10 -10]\n",
      "weights: [1. 1. 1. 1. 0. 0. 0. 0. 0. 0.]\n",
      "values: [0.5 0.8 0.2 0.  0.  0.  0.  0.  0.  0. ]\n",
      "toggled: [0 0 0 0 0 0 0 0 0 0]\n",
      "activation_counts: [0 0 0 2 2 0 0 0 0 0]\n",
      "has_fired: [1 1 1 0 1 0 0 0 0 0]\n",
      "node_depths: [0 0 0 2 1 0 0 0 0 0]\n",
      "outdated_depths: False\n",
      "(, )\n",
      "--------------------\n",
      "Add node network\n",
      "input_size: 3\n",
      "output_size: 1\n",
      "max_nodes: 10\n",
      "node_indices: [0 1 2 3 4 5 6 7 8 9]\n",
      "node_types: [0 0 0 2 1 1 3 3 3 3]\n",
      "activation_fns: [0 0 0 0 1 0 0 0 0 0]\n",
      "senders: [  0   1   2   4   0   5 -10 -10 -10 -10]\n",
      "receivers: [ -4   4   3   3   5   4 -10 -10 -10 -10]\n",
      "weights: [ 0.         1.         1.         1.         1.2636864 -0.0423024\n",
      "  0.         0.         0.         0.       ]\n",
      "values: [0.5 0.8 0.2 0.  0.  0.  0.  0.  0.  0. ]\n",
      "toggled: [1 1 1 0 0 0 0 0 0 0]\n",
      "activation_counts: [0 0 0 0 0 0 0 0 0 0]\n",
      "has_fired: [0 0 0 0 0 0 0 0 0 0]\n",
      "node_depths: [0 0 0 0 0 0 0 0 0 0]\n",
      "outdated_depths: True\n",
      "(, )\n",
      "Add connection network\n",
      "input_size: 3\n",
      "output_size: 1\n",
      "max_nodes: 10\n",
      "node_indices: [0 1 2 3 4 5 6 7 8 9]\n",
      "node_types: [0 0 0 2 1 3 3 3 3 3]\n",
      "activation_fns: [0 0 0 0 0 0 0 0 0 0]\n",
      "senders: [  0   1   2   4   1 -10 -10 -10 -10 -10]\n",
      "receivers: [  4   4   3   3   3 -10 -10 -10 -10 -10]\n",
      "weights: [ 1.          1.          1.          1.         -0.02058423  0.\n",
      "  0.          0.          0.          0.        ]\n",
      "values: [0.5 0.8 0.2 0.  0.  0.  0.  0.  0.  0. ]\n",
      "toggled: [0 0 0 0 0 0 0 0 0 0]\n",
      "activation_counts: [0 0 0 2 2 0 0 0 0 0]\n",
      "has_fired: [1 1 1 0 1 0 0 0 0 0]\n",
      "node_depths: [0 0 0 2 1 0 0 0 0 0]\n",
      "outdated_depths: False\n",
      "(, )\n"
     ]
    }
   ],
   "source": [
    "configs = [mutation_config_null, mutation_config_0_5, mutation_config_certain]\n",
    "seeds = [0, 1, 0]\n",
    "max_nodes = topology_config_0[\"max_nodes\"]\n",
    "\n",
    "for i in range(3):\n",
    "    config = configs[i]\n",
    "    key = random.PRNGKey(seeds[i])\n",
    "\n",
    "    print(\"-\" * 20)\n",
    "    mutations = Mutations(max_nodes=max_nodes, **config)\n",
    "    print(\"Weight shift weights:\")\n",
    "    print(mutations.weight_shift(key, net).weights)\n",
    "    print(\"Weight mutation weights:\")\n",
    "    print(mutations.weight_mutation(key, net).weights)\n",
    "    print(\"Add node network\")\n",
    "    print(mutations.add_node(key, net, activation_state, 1))\n",
    "    print(\"Add connection network\")\n",
    "    print(mutations.add_connection(key, net, activation_state))"
   ]
  },
  {
   "cell_type": "code",
   "execution_count": null,
   "metadata": {},
   "outputs": [],
   "source": []
  },
  {
   "cell_type": "code",
   "execution_count": null,
   "metadata": {},
   "outputs": [],
   "source": []
  },
  {
   "cell_type": "code",
   "execution_count": null,
   "metadata": {},
   "outputs": [],
   "source": [
    "def mutate(\n",
    "    mutations,\n",
    "    key: random.PRNGKey,\n",
    "    net: Network,\n",
    "    activation_state: ActivationState,\n",
    "    scale_weights: float = 0.1,\n",
    ") -> tuple[Network, ActivationState]:\n",
    "    w_mutation_key, w_shift_key, node_key, connection_key = random.split(key, num=4)\n",
    "\n",
    "    print(1)\n",
    "    net = mutations.weight_mutation(w_mutation_key, net, scale_weights)\n",
    "    print(2)\n",
    "    net = mutations.weight_shift(w_shift_key, net, scale_weights)\n",
    "    print(3)\n",
    "    net = mutations.add_node(node_key, net, scale_weights)\n",
    "    print(4)\n",
    "    net, activation_state = mutations.add_connection(\n",
    "        connection_key, net, activation_state, scale_weights\n",
    "    )\n",
    "\n",
    "    return net, activation_state"
   ]
  },
  {
   "cell_type": "code",
   "execution_count": null,
   "metadata": {},
   "outputs": [
    {
     "name": "stdout",
     "output_type": "stream",
     "text": [
      "1\n",
      "2\n",
      "3\n"
     ]
    }
   ],
   "source": [
    "w_mutation_key, w_shift_key, node_key, connection_key = random.split(key, num=4)\n",
    "net = mutations.weight_mutation(w_mutation_key, net)\n",
    "net = mutations.weight_shift(w_shift_key, net)\n",
    "net, activation_state = mutations.add_node(node_key, net, activation_state)"
   ]
  },
  {
   "cell_type": "code",
   "execution_count": null,
   "metadata": {},
   "outputs": [
    {
     "data": {
      "image/png": "[encoded data removed]",
      "text/plain": [
       "<Figure size 640x480 with 1 Axes>"
      ]
     },
     "metadata": {},
     "output_type": "display_data"
    }
   ],
   "source": [
    "plot_network(net)"
   ]
  },
  {
   "cell_type": "code",
   "execution_count": null,
   "metadata": {},
   "outputs": [
    {
     "name": "stdout",
     "output_type": "stream",
     "text": [
      "values: [0.5 0.8 0.2 0.  0.  0.  0.  0.  0.  0. ]\n",
      "toggled: [1 1 1 0 0 0 0 0 0 0]\n",
      "activation_counts: [0 0 0 0 0 0 0 0 0 0]\n",
      "has_fired: [0 0 0 0 0 0 0 0 0 0]\n",
      "node_depths: [0 0 0 0 0 0 0 0 0 0]\n",
      "outdated_depths: True\n"
     ]
    },
    {
     "data": {
      "text/plain": []
     },
     "execution_count": 10,
     "metadata": {},
     "output_type": "execute_result"
    }
   ],
   "source": [
    "activation_state"
   ]
  },
  {
   "cell_type": "code",
   "execution_count": null,
   "metadata": {},
   "outputs": [],
   "source": [
    "assert"
   ]
  },
  {
   "cell_type": "markdown",
   "metadata": {},
   "source": [
    "problem: here a node is added between 0 and 4 => we get 0 -> 5 & 5 -> 4\n",
    "\n",
    "the activation state is not updated accordingly as the old connection is still active and not the new one\n",
    "\n",
    "solution => add an array to the activation state tracking the position of input connections\n"
   ]
  },
  {
   "cell_type": "code",
   "execution_count": null,
   "metadata": {},
   "outputs": [
    {
     "data": {
      "text/plain": [
       "(Array([0, 0, 0, 2, 2, 1, 0, 0, 0, 0], dtype=int32), None)"
      ]
     },
     "execution_count": 12,
     "metadata": {},
     "output_type": "execute_result"
    }
   ],
   "source": [
    "def _carry(required_activations: jnp.ndarray, receiver: int):\n",
    "    return (\n",
    "        jax.lax.cond(\n",
    "            receiver < 0,\n",
    "            lambda _: required_activations,  # bypass this step for non-receiver nodes\n",
    "            lambda _: required_activations.at[receiver].add(1),\n",
    "            operand=None,\n",
    "        ),\n",
    "        None,\n",
    "    )\n",
    "\n",
    "added_node, activation_state = mutations.add_node(node_key, net, activation_state)\n",
    "jax.lax.scan(_carry, (jnp.zeros(max_nodes, dtype=jnp.int32)), added_node.receivers)"
   ]
  }
 ],
 "metadata": {
  "kernelspec": {
   "display_name": "neat-jax-_g-xH7G6-py3.10",
   "language": "python",
   "name": "python3"
  },
  "language_info": {
   "codemirror_mode": {
    "name": "ipython",
    "version": 3
   },
   "file_extension": ".py",
   "mimetype": "text/x-python",
   "name": "python",
   "nbconvert_exporter": "python",
   "pygments_lexer": "ipython3",
   "version": "3.10.7"
  }
 },
 "nbformat": 4,
 "nbformat_minor": 2
}

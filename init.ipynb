{
 "cells": [
  {
   "cell_type": "code",
   "execution_count": 1,
   "metadata": {},
   "outputs": [],
   "source": [
    "from functools import partial\n",
    "\n",
    "import chex\n",
    "import jax\n",
    "import jax.numpy as jnp\n",
    "import sys\n",
    "\n",
    "from neat_jax import (\n",
    "    init_network,\n",
    "    Mutations,\n",
    "    forward\n",
    ")"
   ]
  },
  {
   "cell_type": "code",
   "execution_count": 2,
   "metadata": {},
   "outputs": [
    {
     "name": "stdout",
     "output_type": "stream",
     "text": [
      "input_size: 3\n",
      "output_size: 2\n",
      "max_nodes: 10\n",
      "node_indices: [0 1 2 3 4 5 6 7 8 9]\n",
      "node_types: [0 0 0 2 2 3 3 3 3 3]\n",
      "activation_fns: [0 0 0 0 0 0 0 0 0 0]\n",
      "senders: [  0   1   2   0   1   2 -10 -10 -10 -10]\n",
      "receivers: [  3   3   3   4   4   4 -10 -10 -10 -10]\n",
      "weights: [ 0.01878439 -0.12833427  0.06494182  0.12490594  0.024447   -0.01174496\n",
      "  0.          0.          0.          0.        ]\n",
      "values: [ 1.8160863  -0.48262316  0.33988908  1.8160863  -0.48262316  0.33988908\n",
      "  0.          0.          0.          0.        ]\n",
      "toggled: [1 1 1 1 1 1 0 0 0 0]\n",
      "activation_counts: [0 0 0 0 0 0 0 0 0 0]\n",
      "has_fired: [0 0 0 0 0 0 0 0 0 0]\n",
      "node_depths: [0 0 0 0 0 0 0 0 0 0]\n",
      "outdated_depths: True\n"
     ]
    },
    {
     "data": {
      "text/plain": [
       "(, )"
      ]
     },
     "execution_count": 2,
     "metadata": {},
     "output_type": "execute_result"
    }
   ],
   "source": [
    "inputs = jax.random.normal(jax.random.key(0), (3,))\n",
    "output_size = 2\n",
    "max_nodes = 10\n",
    "key = jax.random.key(0)\n",
    "net, activation_state = init_network(inputs, output_size, max_nodes, key)\n",
    "net, activation_state"
   ]
  },
  {
   "cell_type": "code",
   "execution_count": 3,
   "metadata": {},
   "outputs": [
    {
     "name": "stdout",
     "output_type": "stream",
     "text": [
      "input_size: 3\n",
      "output_size: 2\n",
      "max_nodes: 10\n",
      "node_indices: [0 1 2 3 4 5 6 7 8 9]\n",
      "node_types: [0 0 0 2 2 1 3 3 3 3]\n",
      "activation_fns: [0 0 0 0 0 0 0 0 0 0]\n",
      "senders: [  0  -1   2   0   1   2   1   5 -10 -10]\n",
      "receivers: [  3  -3   3   4   4   4   5   3 -10 -10]\n",
      "weights: [ 0.01878439  0.          0.06494182  0.12490594  0.024447   -0.01174496\n",
      "  0.06167503  0.05283292  0.          0.        ]\n"
     ]
    },
    {
     "data": {
      "text/plain": []
     },
     "execution_count": 3,
     "metadata": {},
     "output_type": "execute_result"
    }
   ],
   "source": [
    "mutation_config_certain = {\n",
    "    \"weight_shift_rate\": 1,\n",
    "    \"weight_mutation_rate\": 1,\n",
    "    \"add_node_rate\": 1,\n",
    "    \"add_connection_rate\": 1,\n",
    "}\n",
    "mutations = Mutations(max_nodes=net.max_nodes, **mutation_config_certain)\n",
    "net = mutations.add_node(jax.random.key(4), net)\n",
    "net"
   ]
  },
  {
   "cell_type": "code",
   "execution_count": 6,
   "metadata": {},
   "outputs": [
    {
     "name": "stdout",
     "output_type": "stream",
     "text": [
      "values: [ 1.8160863   0.          0.33988908  1.8585097  -0.32222906  0.33988908\n",
      " -0.48262316  0.          0.          0.        ]\n",
      "toggled: [0 0 0 0 0 0 0 0 0 0]\n",
      "activation_counts: [0 0 0 3 3 1 0 0 0 0]\n",
      "has_fired: [1 1 1 0 0 1 0 0 0 0]\n",
      "node_depths: [0 0 0 0 0 0 0 0 0 0]\n",
      "outdated_depths: True\n"
     ]
    },
    {
     "data": {
      "text/plain": [
       "(, Array([ 1.8585097 , -0.32222906], dtype=float32))"
      ]
     },
     "execution_count": 6,
     "metadata": {},
     "output_type": "execute_result"
    }
   ],
   "source": [
    "forward(inputs, net, max_nodes, 3, 2)"
   ]
  }
 ],
 "metadata": {
  "kernelspec": {
   "display_name": "neat-jax-_g-xH7G6-py3.10",
   "language": "python",
   "name": "python3"
  },
  "language_info": {
   "codemirror_mode": {
    "name": "ipython",
    "version": 3
   },
   "file_extension": ".py",
   "mimetype": "text/x-python",
   "name": "python",
   "nbconvert_exporter": "python",
   "pygments_lexer": "ipython3",
   "version": "3.10.7"
  }
 },
 "nbformat": 4,
 "nbformat_minor": 2
}

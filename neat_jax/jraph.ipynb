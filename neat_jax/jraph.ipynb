{
 "cells": [
  {
   "cell_type": "code",
   "execution_count": 12,
   "metadata": {},
   "outputs": [],
   "source": [
    "import jax\n",
    "import jraph\n",
    "import flax\n",
    "import jax.numpy as jnp\n",
    "import networkx as nx\n",
    "from typing import NamedTuple"
   ]
  },
  {
   "cell_type": "code",
   "execution_count": 3,
   "metadata": {},
   "outputs": [],
   "source": [
    "@flax.struct.dataclass\n",
    "class GraphState:\n",
    "    nodes: jnp.array\n",
    "    edges: jnp.array\n",
    "    senders: jnp.array\n",
    "    receivers: jnp.array\n",
    "    n_node: jnp.array\n",
    "    n_edge: jnp.array\n",
    "    globals: jnp.array\n",
    "\n",
    "    def to_dict(self) -> dict:\n",
    "        return {\n",
    "            field.name: getattr(self, field.name)\n",
    "            for field in flax.struct.dataclasses.fields(self)\n",
    "        }\n",
    "\n",
    "\n",
    "class NeatNetwork:\n",
    "    @staticmethod\n",
    "    def build_network(graph_state: GraphState):\n",
    "        return jraph.GraphsTuple(**graph_state.to_dict())\n",
    "\n",
    "    @staticmethod\n",
    "    def plot_network(jraph_graph: jraph.GraphsTuple) -> None:\n",
    "        def convert_jraph_to_networkx_graph(jraph_graph: jraph.GraphsTuple) -> nx.Graph:\n",
    "            nodes, edges, receivers, senders, _, _, _ = jraph_graph\n",
    "            nx_graph = nx.DiGraph()\n",
    "            if nodes is None:\n",
    "                for n in range(jraph_graph.n_node[0]):\n",
    "                    nx_graph.add_node(n)\n",
    "            else:\n",
    "                for n in range(jraph_graph.n_node[0]):\n",
    "                    nx_graph.add_node(n, node_feature=nodes[n])\n",
    "            if edges is None:\n",
    "                for e in range(jraph_graph.n_edge[0]):\n",
    "                    nx_graph.add_edge(int(senders[e]), int(receivers[e]))\n",
    "            else:\n",
    "                for e in range(jraph_graph.n_edge[0]):\n",
    "                    nx_graph.add_edge(\n",
    "                        int(senders[e]), int(receivers[e]), edge_feature=edges[e]\n",
    "                    )\n",
    "            return nx_graph\n",
    "\n",
    "        nx_graph = convert_jraph_to_networkx_graph(jraph_graph)\n",
    "        pos = nx.spring_layout(nx_graph)\n",
    "        nx.draw(nx_graph, pos=pos, with_labels=True, node_size=500, font_color=\"yellow\")"
   ]
  },
  {
   "cell_type": "code",
   "execution_count": 4,
   "metadata": {},
   "outputs": [],
   "source": [
    "node_features = jnp.array([[0.], [2.], [4.], [6.]])\n",
    "senders = jnp.array([0, 1, 2, 3, 0])\n",
    "receivers = jnp.array([1, 2, 0, 0, 3])\n",
    "edges = jnp.array([[5.], [6.], [7.], [8.], [8.]])\n",
    "n_node = jnp.array([4])\n",
    "n_edge = jnp.array([5])\n",
    "global_context = jnp.array([[1]])"
   ]
  },
  {
   "cell_type": "code",
   "execution_count": 5,
   "metadata": {},
   "outputs": [
    {
     "data": {
      "image/png": "[encoded data removed]",
      "text/plain": [
       "<Figure size 640x480 with 1 Axes>"
      ]
     },
     "metadata": {},
     "output_type": "display_data"
    }
   ],
   "source": [
    "neat_net = NeatNetwork()\n",
    "\n",
    "node_features = jnp.ones(5)\n",
    "senders = jnp.array([0,1,2,3])\n",
    "receivers = jnp.array([3,3,4,4])\n",
    "edges = jnp.ones(4)\n",
    "n_node = jnp.array([5])\n",
    "n_edge = jnp.array([4])\n",
    "global_context = jnp.array([[1]])\n",
    "\n",
    "graph_state = GraphState(\n",
    "    node_features, edges, senders, receivers, n_node, n_edge, global_context\n",
    ")\n",
    "network = neat_net.build_network(graph_state)\n",
    "neat_net.plot_network(network)"
   ]
  },
  {
   "cell_type": "code",
   "execution_count": 13,
   "metadata": {},
   "outputs": [],
   "source": [
    "class Node(NamedTuple):\n",
    "    index: jnp.int32\n",
    "    type: jnp.int32\n",
    "    enabled: jnp.bool_\n",
    "    activated: jnp.bool_\n",
    "\n",
    "class Network(NamedTuple):\n",
    "    nodes: list[Node]\n",
    "    edges: jnp.ndarray\n",
    "    senders: jnp.ndarray\n",
    "    receivers: jnp.ndarray\n",
    "\n",
    "@staticmethod\n",
    "def plot_network(net: Network) -> None:\n",
    "    def convert_jraph_to_networkx_graph(jraph_graph: jraph.GraphsTuple) -> nx.Graph:\n",
    "        nodes, edges, receivers, senders, _, _, _ = jraph_graph\n",
    "        nx_graph = nx.DiGraph()\n",
    "        if nodes is None:\n",
    "            for n in range(jraph_graph.n_node[0]):\n",
    "                nx_graph.add_node(n)\n",
    "        else:\n",
    "            for n in range(jraph_graph.n_node[0]):\n",
    "                nx_graph.add_node(n, node_feature=nodes[n])\n",
    "        if edges is None:\n",
    "            for e in range(jraph_graph.n_edge[0]):\n",
    "                nx_graph.add_edge(int(senders[e]), int(receivers[e]))\n",
    "        else:\n",
    "            for e in range(jraph_graph.n_edge[0]):\n",
    "                nx_graph.add_edge(\n",
    "                    int(senders[e]), int(receivers[e]), edge_feature=edges[e]\n",
    "                )\n",
    "        return nx_graph\n",
    "\n",
    "    nx_graph = convert_jraph_to_networkx_graph(net)\n",
    "    pos = nx.spring_layout(nx_graph)\n",
    "    nx.draw(nx_graph, pos=pos, with_labels=True, node_size=500, font_color=\"yellow\")"
   ]
  },
  {
   "cell_type": "code",
   "execution_count": 14,
   "metadata": {},
   "outputs": [],
   "source": [
    "n_nodes = 5\n",
    "nodes = jax.vmap(Node)(\n",
    "    jnp.arange(n_nodes),\n",
    "    jnp.array([1, 1, 1, 2, 3]),\n",
    "    jnp.ones(n_nodes),\n",
    "    jnp.array([1, 1, 1, 0, 0]),\n",
    ")\n",
    "net = Network(\n",
    "    nodes,\n",
    "    edges=jnp.ones(n_nodes - 1),\n",
    "    senders=jnp.array([0,1,2,3]),\n",
    "    receivers=jnp.array([3,3,4,4]),\n",
    ")"
   ]
  },
  {
   "cell_type": "code",
   "execution_count": null,
   "metadata": {},
   "outputs": [],
   "source": [
    "# compute input activations\n",
    "# if neurons are fully activated, compute activation\n",
    "# \n",
    "#\n",
    "#\n",
    "#"
   ]
  },
  {
   "cell_type": "code",
   "execution_count": 94,
   "metadata": {},
   "outputs": [
    {
     "data": {
      "text/plain": [
       "Array([0.7310586, 0.7310586, 0.7310586, 0.7310586, 0.5      ], dtype=float32)"
      ]
     },
     "execution_count": 94,
     "metadata": {},
     "output_type": "execute_result"
    }
   ],
   "source": [
    "def sigmoid(x):\n",
    "    return 1 / (1 + jnp.exp(-x))\n",
    "\n",
    "\n",
    "def node_update_fn(nodes, received_edges_sum, sent_edges_sum, globals_):\n",
    "    # Node update function: applies the sigmoid activation \n",
    "    # function to the sum of received edge attributes.\n",
    "    return sigmoid(received_edges_sum)\n",
    "\n",
    "\n",
    "def edge_update_fn(edges, sender_nodes, receiver_nodes, globals_):\n",
    "    # Edge update function: simply returns the edges as they are, \n",
    "    # in this case they are just weights.\n",
    "    return edges\n",
    "\n",
    "\n",
    "# Define your graph using jraph.GraphsTuple\n",
    "graph = jraph.GraphsTuple(\n",
    "    nodes=jnp.array(\n",
    "        [0.5, 0.8, 0.2, 0, 0] \n",
    "    ),  # Example inputs for nodes 0, 1, and 2; others are 0.\n",
    "    senders=jnp.array([0, 1, 2, 3]),  # Senders (source nodes of edges)\n",
    "    edges=jnp.array([1, 1, 1, 1]),  # Edge weights\n",
    "    receivers=jnp.array([3, 3, 4, 4]),  # Receivers (target nodes of edges)\n",
    "    globals=jnp.array([0]),  # Global state of the graph (if any)\n",
    "    n_node=jnp.array([5]),  # Number of nodes\n",
    "    n_edge=jnp.array([4]),  # Number of edges\n",
    ")\n",
    "\n",
    "# Apply the node and edge update functions using the GraphNetwork.\n",
    "graph_network = jraph.GraphNetwork(\n",
    "    update_edge_fn=edge_update_fn,\n",
    "    update_node_fn=node_update_fn,\n",
    "    # update_global_fn=lambda g, n_agr, e_agr, n, e: g  # Globals are not updated in this example.\n",
    ")\n",
    "\n",
    "# Compute the activations using the defined graph network.\n",
    "updated_graph = graph_network(graph)\n",
    "\n",
    "updated_graph.nodes"
   ]
  },
  {
   "cell_type": "code",
   "execution_count": 95,
   "metadata": {},
   "outputs": [
    {
     "data": {
      "text/plain": [
       "Array([0. , 0. , 0. , 1.3, 0.2], dtype=float32)"
      ]
     },
     "execution_count": 95,
     "metadata": {},
     "output_type": "execute_result"
    }
   ],
   "source": [
    "def apply_simplified_gcn(graph: jraph.GraphsTuple) -> jraph.GraphsTuple:\n",
    "    # Unpack GraphsTuple\n",
    "    nodes, _, receivers, senders, _, _, _ = graph\n",
    "\n",
    "    # 1. Update node features\n",
    "    # For simplicity, we will first use an identify function here, and replace it\n",
    "    # with a trainable MLP block later.\n",
    "    update_node_fn = lambda nodes: nodes\n",
    "    nodes = update_node_fn(nodes)\n",
    "\n",
    "    # 2. Aggregate node features over nodes in neighborhood\n",
    "    # Equivalent to jnp.sum(n_node), but jittable\n",
    "    total_num_nodes = jax.tree_util.tree_leaves(nodes)[0].shape[0]\n",
    "    aggregate_nodes_fn = jax.ops.segment_sum\n",
    "\n",
    "    # Compute new node features by aggregating messages from neighboring nodes\n",
    "    nodes = jax.tree_util.tree_map(\n",
    "        lambda x: aggregate_nodes_fn(x[senders], receivers, total_num_nodes), nodes\n",
    "    )\n",
    "    out_graph = graph._replace(nodes=nodes)\n",
    "    return out_graph\n",
    "\n",
    "apply_simplified_gcn(graph).nodes"
   ]
  },
  {
   "cell_type": "code",
   "execution_count": 90,
   "metadata": {},
   "outputs": [
    {
     "data": {
      "text/plain": [
       "Array(0.5, dtype=float32, weak_type=True)"
      ]
     },
     "execution_count": 90,
     "metadata": {},
     "output_type": "execute_result"
    }
   ],
   "source": [
    "sigmoid(0)"
   ]
  },
  {
   "cell_type": "code",
   "execution_count": 87,
   "metadata": {},
   "outputs": [
    {
     "data": {
      "text/plain": [
       "Array(0.7310586, dtype=float32, weak_type=True)"
      ]
     },
     "execution_count": 87,
     "metadata": {},
     "output_type": "execute_result"
    }
   ],
   "source": [
    "sigmoid(1)"
   ]
  },
  {
   "cell_type": "code",
   "execution_count": 71,
   "metadata": {},
   "outputs": [
    {
     "data": {
      "image/png": "[encoded data removed]",
      "text/plain": [
       "<Figure size 640x480 with 1 Axes>"
      ]
     },
     "metadata": {},
     "output_type": "display_data"
    }
   ],
   "source": [
    "neat_net.plot_network(graph)"
   ]
  },
  {
   "cell_type": "code",
   "execution_count": 69,
   "metadata": {},
   "outputs": [
    {
     "data": {
      "text/plain": [
       "Array(0.94190556, dtype=float32, weak_type=True)"
      ]
     },
     "execution_count": 69,
     "metadata": {},
     "output_type": "execute_result"
    }
   ],
   "source": [
    "sigmoid(sigmoid(0.5 + 0.8) + 2)"
   ]
  },
  {
   "cell_type": "code",
   "execution_count": 67,
   "metadata": {},
   "outputs": [
    {
     "data": {
      "text/plain": [
       "Array(0.79177684, dtype=float32, weak_type=True)"
      ]
     },
     "execution_count": 67,
     "metadata": {},
     "output_type": "execute_result"
    }
   ],
   "source": [
    "sigmoid(sigmoid(0.5 + 0.8) + sigmoid(0.2))"
   ]
  },
  {
   "cell_type": "code",
   "execution_count": 65,
   "metadata": {},
   "outputs": [
    {
     "data": {
      "text/plain": [
       "GraphsTuple(nodes=Array([0.7310586, 0.7310586, 0.7310586, 0.7310586, 0.5      ], dtype=float32), edges=Array([1, 1, 1, 1], dtype=int32), receivers=Array([3, 3, 4, 4], dtype=int32), senders=Array([0, 1, 2, 3], dtype=int32), globals=Array([0], dtype=int32), n_node=Array([5], dtype=int32), n_edge=Array([4], dtype=int32))"
      ]
     },
     "execution_count": 65,
     "metadata": {},
     "output_type": "execute_result"
    }
   ],
   "source": [
    "updated_graph"
   ]
  }
 ],
 "metadata": {
  "kernelspec": {
   "display_name": "neat-jax-_g-xH7G6-py3.10",
   "language": "python",
   "name": "python3"
  },
  "language_info": {
   "codemirror_mode": {
    "name": "ipython",
    "version": 3
   },
   "file_extension": ".py",
   "mimetype": "text/x-python",
   "name": "python",
   "nbconvert_exporter": "python",
   "pygments_lexer": "ipython3",
   "version": "3.10.7"
  }
 },
 "nbformat": 4,
 "nbformat_minor": 2
}

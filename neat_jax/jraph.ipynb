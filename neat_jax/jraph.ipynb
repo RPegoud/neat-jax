{
 "cells": [
  {
   "cell_type": "code",
   "execution_count": 2,
   "metadata": {},
   "outputs": [],
   "source": [
    "import jax \n",
    "import jraph\n",
    "import flax\n",
    "import jax.numpy as jnp"
   ]
  },
  {
   "cell_type": "code",
   "execution_count": 10,
   "metadata": {},
   "outputs": [],
   "source": [
    "@flax.struct.dataclass\n",
    "class GraphState:\n",
    "    nodes: jnp.array \n",
    "    edges: jnp.array\n",
    "    senders: jnp.array\n",
    "    receivers: jnp.array\n",
    "    n_node:jnp.array\n",
    "    n_edge:jnp.array\n",
    "    globals: jnp.array\n",
    "\n",
    "\n",
    "class neat_network:\n",
    "    def build_network(graph_state:GraphState):\n",
    "        return jraph.GraphsTuple(\n",
    "            \n",
    "        )"
   ]
  },
  {
   "cell_type": "code",
   "execution_count": 11,
   "metadata": {},
   "outputs": [],
   "source": [
    "node_features = jnp.array([[0.], [2.], [4.], [6.]])\n",
    "senders = jnp.array([0, 1, 2, 3, 0])\n",
    "receivers = jnp.array([1, 2, 0, 0, 3])\n",
    "edges = jnp.array([[5.], [6.], [7.], [8.], [8.]])\n",
    "n_node = jnp.array([4])\n",
    "n_edge = jnp.array([5])\n",
    "global_context = jnp.array([[1]])"
   ]
  },
  {
   "cell_type": "code",
   "execution_count": null,
   "metadata": {},
   "outputs": [],
   "source": [
    "graph_state = GraphState()"
   ]
  }
 ],
 "metadata": {
  "kernelspec": {
   "display_name": "neat-jax-_g-xH7G6-py3.10",
   "language": "python",
   "name": "python3"
  },
  "language_info": {
   "codemirror_mode": {
    "name": "ipython",
    "version": 3
   },
   "file_extension": ".py",
   "mimetype": "text/x-python",
   "name": "python",
   "nbconvert_exporter": "python",
   "pygments_lexer": "ipython3",
   "version": "3.10.7"
  }
 },
 "nbformat": 4,
 "nbformat_minor": 2
}

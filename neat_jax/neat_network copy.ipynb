{
 "cells": [
  {
   "cell_type": "code",
   "execution_count": 1,
   "metadata": {},
   "outputs": [],
   "source": [
    "import jax\n",
    "import jax.numpy as jnp\n",
    "from flax import struct"
   ]
  },
  {
   "cell_type": "code",
   "execution_count": 2,
   "metadata": {},
   "outputs": [],
   "source": [
    "@struct.dataclass\n",
    "class ActivationState:\n",
    "    values: jnp.ndarray\n",
    "    toggled: jnp.ndarray\n",
    "    activation_counts: jnp.ndarray\n",
    "\n",
    "@struct.dataclass\n",
    "class Network:\n",
    "    node_indices: jnp.ndarray\n",
    "    node_types: jnp.ndarray\n",
    "    edges: jnp.ndarray\n",
    "    senders: jnp.ndarray\n",
    "    receivers: jnp.ndarray\n",
    "\n",
    "    @property\n",
    "    def n_nodes(self) -> int:\n",
    "        return len(self.nodes.index)\n",
    "\n",
    "    @property\n",
    "    def input_nodes(self) -> int:\n",
    "        return jnp.where(self.nodes.type == 1)[0]\n",
    "\n",
    "    @property\n",
    "    def n_inputs(self) -> int:\n",
    "        return len(self.input_nodes)\n",
    "\n",
    "    def get_required_activations(self, max_nodes: int) -> jnp.ndarray:\n",
    "        \"\"\"\n",
    "        Returns an array of size max_nodes where the ``n-th`` element is the number of \n",
    "        required activations for the node ``n`` to fire. \n",
    "        \"\"\"\n",
    "        return jnp.bincount(self.receivers[self.receivers >= 0], minlength=max_nodes)\n",
    "\n",
    "\n",
    "def init(\n",
    "    senders: jnp.ndarray,\n",
    "    receivers: jnp.ndarray,\n",
    "    inputs: jnp.ndarray,\n",
    "    max_nodes: int = 100,\n",
    ") -> tuple[ActivationState, Network]:\n",
    "\n",
    "    senders = (\n",
    "        (jnp.ones(max_nodes, dtype=jnp.int32) * -1).at[: len(senders)].set(senders)\n",
    "    )\n",
    "    receivers = (\n",
    "        (jnp.ones(max_nodes, dtype=jnp.int32) * -1).at[: len(receivers)].set(receivers)\n",
    "    )\n",
    "\n",
    "    activations = jnp.zeros(max_nodes).at[: len(inputs)].set(inputs)\n",
    "    activated_nodes = jnp.int32(activations > 0)\n",
    "    activation_counts = jnp.zeros(max_nodes, dtype=jnp.int32)\n",
    "\n",
    "    return (\n",
    "        ActivationState(\n",
    "            values=activations,\n",
    "            toggled=activated_nodes,\n",
    "            activation_counts=activation_counts,\n",
    "        ),\n",
    "        Network(\n",
    "            node_indices=jnp.arange(max_nodes, dtype=jnp.int32),\n",
    "            node_types=jnp.zeros(max_nodes, dtype=jnp.int32),\n",
    "            edges=jnp.ones(max_nodes),\n",
    "            senders=senders,\n",
    "            receivers=receivers,\n",
    "        ),\n",
    "    )\n",
    "\n",
    "\n",
    "def pad(\n",
    "    array: jnp.ndarray, dtype=jnp.float32, max_nodes: int = 100, fill_value: int = 0\n",
    ") -> jnp.ndarray:\n",
    "    return (jnp.ones(max_nodes, dtype=dtype) * fill_value).at[: len(array)].set(array)"
   ]
  },
  {
   "cell_type": "code",
   "execution_count": 3,
   "metadata": {},
   "outputs": [
    {
     "name": "stdout",
     "output_type": "stream",
     "text": [
      "ActivationState(values=(100,), toggled=(100,), activation_counts=(100,))\n",
      "Network(node_indices=(100,), node_types=(100,), edges=(100,), senders=(100,), receivers=(100,))\n"
     ]
    }
   ],
   "source": [
    "max_nodes = 100\n",
    "initial_senders = jnp.array([0, 1, 2, 4])\n",
    "initial_receivers = jnp.array([4, 4, 3, 3])\n",
    "inputs = jnp.array([0.5, 0.8, 0.2])\n",
    "\n",
    "activation_state, net = init(initial_senders, initial_receivers, inputs, max_nodes)\n",
    "print(jax.tree_map(lambda x: x.shape, activation_state))\n",
    "print(jax.tree_map(lambda x: x.shape, net))"
   ]
  },
  {
   "cell_type": "code",
   "execution_count": 4,
   "metadata": {},
   "outputs": [
    {
     "data": {
      "text/plain": [
       "(Array([ 0,  1,  2, -1, -1, -1, -1, -1, -1, -1, -1, -1, -1, -1, -1, -1, -1,\n",
       "        -1, -1, -1, -1, -1, -1, -1, -1, -1, -1, -1, -1, -1, -1, -1, -1, -1,\n",
       "        -1, -1, -1, -1, -1, -1, -1, -1, -1, -1, -1, -1, -1, -1, -1, -1, -1,\n",
       "        -1, -1, -1, -1, -1, -1, -1, -1, -1, -1, -1, -1, -1, -1, -1, -1, -1,\n",
       "        -1, -1, -1, -1, -1, -1, -1, -1, -1, -1, -1, -1, -1, -1, -1, -1, -1,\n",
       "        -1, -1, -1, -1, -1, -1, -1, -1, -1, -1, -1, -1, -1, -1, -1],      dtype=int32),\n",
       " Array([ 4,  4,  3, -1, -1, -1, -1, -1, -1, -1, -1, -1, -1, -1, -1, -1, -1,\n",
       "        -1, -1, -1, -1, -1, -1, -1, -1, -1, -1, -1, -1, -1, -1, -1, -1, -1,\n",
       "        -1, -1, -1, -1, -1, -1, -1, -1, -1, -1, -1, -1, -1, -1, -1, -1, -1,\n",
       "        -1, -1, -1, -1, -1, -1, -1, -1, -1, -1, -1, -1, -1, -1, -1, -1, -1,\n",
       "        -1, -1, -1, -1, -1, -1, -1, -1, -1, -1, -1, -1, -1, -1, -1, -1, -1,\n",
       "        -1, -1, -1, -1, -1, -1, -1, -1, -1, -1, -1, -1, -1, -1, -1],      dtype=int32))"
      ]
     },
     "execution_count": 4,
     "metadata": {},
     "output_type": "execute_result"
    }
   ],
   "source": [
    "def get_active_connections(\n",
    "    activation_state: ActivationState, network: Network\n",
    ") -> tuple[jnp.ndarray, jnp.ndarray]:\n",
    "    active_senders_indices = jnp.where(activation_state.toggled[network.senders] > 0)[0]\n",
    "\n",
    "    active_senders = jnp.take(network.senders, active_senders_indices, axis=0)\n",
    "    active_receivers = jnp.take(network.receivers, active_senders_indices, axis=0)\n",
    "\n",
    "    return pad(active_senders,dtype=jnp.int32, fill_value=-1), pad(active_receivers,dtype=jnp.int32, fill_value=-1)\n",
    "\n",
    "\n",
    "senders, receivers = get_active_connections(activation_state, net)\n",
    "senders, receivers"
   ]
  },
  {
   "cell_type": "code",
   "execution_count": 5,
   "metadata": {},
   "outputs": [
    {
     "data": {
      "text/plain": [
       "ActivationState(values=Array([0.5, 0.8, 0.2, 0.2, 1.3, 0. , 0. , 0. , 0. , 0. , 0. , 0. , 0. ,\n",
       "       0. , 0. , 0. , 0. , 0. , 0. , 0. , 0. , 0. , 0. , 0. , 0. , 0. ,\n",
       "       0. , 0. , 0. , 0. , 0. , 0. , 0. , 0. , 0. , 0. , 0. , 0. , 0. ,\n",
       "       0. , 0. , 0. , 0. , 0. , 0. , 0. , 0. , 0. , 0. , 0. , 0. , 0. ,\n",
       "       0. , 0. , 0. , 0. , 0. , 0. , 0. , 0. , 0. , 0. , 0. , 0. , 0. ,\n",
       "       0. , 0. , 0. , 0. , 0. , 0. , 0. , 0. , 0. , 0. , 0. , 0. , 0. ,\n",
       "       0. , 0. , 0. , 0. , 0. , 0. , 0. , 0. , 0. , 0. , 0. , 0. , 0. ,\n",
       "       0. , 0. , 0. , 0. , 0. , 0. , 0. , 0. , 0. ], dtype=float32), toggled=Array([0, 0, 0, 0, 0, 0, 0, 0, 0, 0, 0, 0, 0, 0, 0, 0, 0, 0, 0, 0, 0, 0,\n",
       "       0, 0, 0, 0, 0, 0, 0, 0, 0, 0, 0, 0, 0, 0, 0, 0, 0, 0, 0, 0, 0, 0,\n",
       "       0, 0, 0, 0, 0, 0, 0, 0, 0, 0, 0, 0, 0, 0, 0, 0, 0, 0, 0, 0, 0, 0,\n",
       "       0, 0, 0, 0, 0, 0, 0, 0, 0, 0, 0, 0, 0, 0, 0, 0, 0, 0, 0, 0, 0, 0,\n",
       "       0, 0, 0, 0, 0, 0, 0, 0, 0, 0, 0, 0], dtype=int32), activation_counts=Array([0, 0, 0, 1, 2, 0, 0, 0, 0, 0, 0, 0, 0, 0, 0, 0, 0, 0, 0, 0, 0, 0,\n",
       "       0, 0, 0, 0, 0, 0, 0, 0, 0, 0, 0, 0, 0, 0, 0, 0, 0, 0, 0, 0, 0, 0,\n",
       "       0, 0, 0, 0, 0, 0, 0, 0, 0, 0, 0, 0, 0, 0, 0, 0, 0, 0, 0, 0, 0, 0,\n",
       "       0, 0, 0, 0, 0, 0, 0, 0, 0, 0, 0, 0, 0, 0, 0, 0, 0, 0, 0, 0, 0, 0,\n",
       "       0, 0, 0, 0, 0, 0, 0, 0, 0, 0, 0, 0], dtype=int32))"
      ]
     },
     "execution_count": 5,
     "metadata": {},
     "output_type": "execute_result"
    }
   ],
   "source": [
    "def add_activations(\n",
    "    senders: jnp.ndarray,\n",
    "    receivers: jnp.ndarray,\n",
    "    activation_state: ActivationState,\n",
    ") -> ActivationState:\n",
    "    \"\"\"\n",
    "    For given sender nodes, iteratively computes the activation\n",
    "    of receiver nodes while carrying the global activation state.\n",
    "    \"\"\"\n",
    "\n",
    "    def add_single_activation(activation_state: jnp.ndarray, x: tuple) -> jnp.ndarray:\n",
    "        def _update_activation_state(val: tuple):\n",
    "            \"\"\"\n",
    "            Adds the activation of a sender to a receiver's value and \n",
    "            increments its activation count, then deactivates the sender node.\n",
    "\n",
    "            Note: the deactivation of the sender nodes will only be effective at the \n",
    "            end of the iteration (at the next step when computing which nodes should fire).\n",
    "            \"\"\"\n",
    "            activation_state, sender, receiver = val\n",
    "            values = activation_state.values\n",
    "            activation_counts = activation_state.activation_counts\n",
    "\n",
    "            values = values.at[receiver].add(values[sender])\n",
    "            activation_counts = activation_counts.at[receiver].add(1)\n",
    "            toggled = activation_state.toggled.at[sender].set(0)\n",
    "            return (\n",
    "                activation_state.replace(\n",
    "                    values=values,\n",
    "                    activation_counts=activation_counts,\n",
    "                    toggled=toggled,\n",
    "                ),\n",
    "                None,\n",
    "            )\n",
    "\n",
    "        def _bypass(val: tuple):\n",
    "            \"\"\" Bypasses the update for a given node. \"\"\"\n",
    "            activation_state, _, _ = val\n",
    "            return (activation_state, None)\n",
    "\n",
    "        sender, receiver = x\n",
    "\n",
    "        # nodes with activation -1 are not enabled and should not fire\n",
    "        return jax.lax.cond(\n",
    "            sender == -1,\n",
    "            _bypass,\n",
    "            _update_activation_state,\n",
    "            operand=(activation_state, sender, receiver),\n",
    "        )\n",
    "\n",
    "    activation_state, _ = jax.lax.scan(\n",
    "        add_single_activation,\n",
    "        activation_state,\n",
    "        jnp.stack((senders, receivers), axis=1),\n",
    "    )\n",
    "    return activation_state\n",
    "\n",
    "activation_state = add_activations(senders, receivers, activation_state)\n",
    "activation_state"
   ]
  },
  {
   "cell_type": "code",
   "execution_count": 6,
   "metadata": {},
   "outputs": [
    {
     "data": {
      "text/plain": [
       "Array([0, 0, 0, 0, 1, 0, 0, 0, 0, 0, 0, 0, 0, 0, 0, 0, 0, 0, 0, 0, 0, 0,\n",
       "       0, 0, 0, 0, 0, 0, 0, 0, 0, 0, 0, 0, 0, 0, 0, 0, 0, 0, 0, 0, 0, 0,\n",
       "       0, 0, 0, 0, 0, 0, 0, 0, 0, 0, 0, 0, 0, 0, 0, 0, 0, 0, 0, 0, 0, 0,\n",
       "       0, 0, 0, 0, 0, 0, 0, 0, 0, 0, 0, 0, 0, 0, 0, 0, 0, 0, 0, 0, 0, 0,\n",
       "       0, 0, 0, 0, 0, 0, 0, 0, 0, 0, 0, 0], dtype=int32)"
      ]
     },
     "execution_count": 6,
     "metadata": {},
     "output_type": "execute_result"
    }
   ],
   "source": [
    "def toggle_receivers(activation_state: ActivationState, net: Network) -> ActivationState:\n",
    "    \"\"\"\n",
    "    Returns an array of size ``max_neurons`` indicating which nodes have received\n",
    "    all necessary activations and should fire at the next step.\n",
    "    \"\"\"\n",
    "    activated_nodes = jnp.int32(\n",
    "        (activation_state.activation_counts > 0)\n",
    "        & (\n",
    "            activation_state.activation_counts\n",
    "            == net.get_required_activations(max_nodes)\n",
    "        )\n",
    "    )\n",
    "    return activation_state.replace(toggled=activated_nodes)\n",
    "\n",
    "activation_state = toggle_receivers(activation_state, net)\n",
    "activation_state.toggled"
   ]
  },
  {
   "cell_type": "code",
   "execution_count": 7,
   "metadata": {},
   "outputs": [
    {
     "data": {
      "text/plain": [
       "Array([ 4,  4,  3, -1, -1, -1, -1, -1, -1, -1, -1, -1, -1, -1, -1, -1, -1,\n",
       "       -1, -1, -1, -1, -1, -1, -1, -1, -1, -1, -1, -1, -1, -1, -1, -1, -1,\n",
       "       -1, -1, -1, -1, -1, -1, -1, -1, -1, -1, -1, -1, -1, -1, -1, -1, -1,\n",
       "       -1, -1, -1, -1, -1, -1, -1, -1, -1, -1, -1, -1, -1, -1, -1, -1, -1,\n",
       "       -1, -1, -1, -1, -1, -1, -1, -1, -1, -1, -1, -1, -1, -1, -1, -1, -1,\n",
       "       -1, -1, -1, -1, -1, -1, -1, -1, -1, -1, -1, -1, -1, -1, -1],      dtype=int32)"
      ]
     },
     "execution_count": 7,
     "metadata": {},
     "output_type": "execute_result"
    }
   ],
   "source": [
    "senders = jnp.arange(max_nodes) * activation_state.toggled\n",
    "receivers"
   ]
  },
  {
   "cell_type": "code",
   "execution_count": 8,
   "metadata": {},
   "outputs": [
    {
     "data": {
      "text/plain": [
       "ActivationState(values=Array([0.5, 0.8, 0.2, 1.5, 1.3, 0. , 0. , 0. , 0. , 0. , 0. , 0. , 0. ,\n",
       "       0. , 0. , 0. , 0. , 0. , 0. , 0. , 0. , 0. , 0. , 0. , 0. , 0. ,\n",
       "       0. , 0. , 0. , 0. , 0. , 0. , 0. , 0. , 0. , 0. , 0. , 0. , 0. ,\n",
       "       0. , 0. , 0. , 0. , 0. , 0. , 0. , 0. , 0. , 0. , 0. , 0. , 0. ,\n",
       "       0. , 0. , 0. , 0. , 0. , 0. , 0. , 0. , 0. , 0. , 0. , 0. , 0. ,\n",
       "       0. , 0. , 0. , 0. , 0. , 0. , 0. , 0. , 0. , 0. , 0. , 0. , 0. ,\n",
       "       0. , 0. , 0. , 0. , 0. , 0. , 0. , 0. , 0. , 0. , 0. , 0. , 0. ,\n",
       "       0. , 0. , 0. , 0. , 0. , 0. , 0. , 0. , 0. ], dtype=float32), toggled=Array([0, 0, 0, 0, 0, 0, 0, 0, 0, 0, 0, 0, 0, 0, 0, 0, 0, 0, 0, 0, 0, 0,\n",
       "       0, 0, 0, 0, 0, 0, 0, 0, 0, 0, 0, 0, 0, 0, 0, 0, 0, 0, 0, 0, 0, 0,\n",
       "       0, 0, 0, 0, 0, 0, 0, 0, 0, 0, 0, 0, 0, 0, 0, 0, 0, 0, 0, 0, 0, 0,\n",
       "       0, 0, 0, 0, 0, 0, 0, 0, 0, 0, 0, 0, 0, 0, 0, 0, 0, 0, 0, 0, 0, 0,\n",
       "       0, 0, 0, 0, 0, 0, 0, 0, 0, 0, 0, 0], dtype=int32), activation_counts=Array([0, 0, 0, 2, 2, 0, 0, 0, 0, 0, 0, 0, 0, 0, 0, 0, 0, 0, 0, 0, 0, 0,\n",
       "       0, 0, 0, 0, 0, 0, 0, 0, 0, 0, 0, 0, 0, 0, 0, 0, 0, 0, 0, 0, 0, 0,\n",
       "       0, 0, 0, 0, 0, 0, 0, 0, 0, 0, 0, 0, 0, 0, 0, 0, 0, 0, 0, 0, 0, 0,\n",
       "       0, 0, 0, 0, 0, 0, 0, 0, 0, 0, 0, 0, 0, 0, 0, 0, 0, 0, 0, 0, 0, 0,\n",
       "       0, 0, 0, 0, 0, 0, 0, 0, 0, 0, 0, 0], dtype=int32))"
      ]
     },
     "execution_count": 8,
     "metadata": {},
     "output_type": "execute_result"
    }
   ],
   "source": [
    "senders, receivers = get_active_connections(activation_state, net)\n",
    "add_activations(senders, receivers, activation_state)"
   ]
  },
  {
   "cell_type": "code",
   "execution_count": 9,
   "metadata": {},
   "outputs": [
    {
     "ename": "ConcretizationTypeError",
     "evalue": "Abstract tracer value encountered where concrete value is expected: traced array with shape int32[].\nThe size argument of jnp.nonzero must be statically specified to use jnp.nonzero within JAX transformations.\nThe error occurred while tracing the function body_fn at C:\\Users\\ryanp\\AppData\\Local\\Temp\\ipykernel_35224\\3719556624.py:4 for while_loop. This concrete value was not available in Python because it depends on the values of the arguments val[0].toggled and val[1].senders.\n\nSee https://jax.readthedocs.io/en/latest/errors.html#jax.errors.ConcretizationTypeError",
     "output_type": "error",
     "traceback": [
      "\u001b[1;31m---------------------------------------------------------------------------\u001b[0m",
      "\u001b[1;31mConcretizationTypeError\u001b[0m                   Traceback (most recent call last)",
      "Cell \u001b[1;32mIn[9], line 12\u001b[0m\n\u001b[0;32m      8\u001b[0m     activation_state \u001b[38;5;241m=\u001b[39m toggle_receivers(activation_state, net)\n\u001b[0;32m     10\u001b[0m     \u001b[38;5;28;01mreturn\u001b[39;00m activation_state, net\n\u001b[1;32m---> 12\u001b[0m \u001b[43mjax\u001b[49m\u001b[38;5;241;43m.\u001b[39;49m\u001b[43mlax\u001b[49m\u001b[38;5;241;43m.\u001b[39;49m\u001b[43mwhile_loop\u001b[49m\u001b[43m(\u001b[49m\u001b[43mtermination_fn\u001b[49m\u001b[43m,\u001b[49m\u001b[43m \u001b[49m\u001b[43mbody_fn\u001b[49m\u001b[43m,\u001b[49m\u001b[43m \u001b[49m\u001b[43m(\u001b[49m\u001b[43mactivation_state\u001b[49m\u001b[43m,\u001b[49m\u001b[43m \u001b[49m\u001b[43mnet\u001b[49m\u001b[43m)\u001b[49m\u001b[43m)\u001b[49m\n",
      "    \u001b[1;31m[... skipping hidden 9 frame]\u001b[0m\n",
      "Cell \u001b[1;32mIn[9], line 6\u001b[0m, in \u001b[0;36mbody_fn\u001b[1;34m(val)\u001b[0m\n\u001b[0;32m      4\u001b[0m \u001b[38;5;28;01mdef\u001b[39;00m \u001b[38;5;21mbody_fn\u001b[39m(val: \u001b[38;5;28mtuple\u001b[39m):\n\u001b[0;32m      5\u001b[0m     activation_state, net \u001b[38;5;241m=\u001b[39m val\n\u001b[1;32m----> 6\u001b[0m     senders, receivers \u001b[38;5;241m=\u001b[39m \u001b[43mget_active_connections\u001b[49m\u001b[43m(\u001b[49m\u001b[43mactivation_state\u001b[49m\u001b[43m,\u001b[49m\u001b[43m \u001b[49m\u001b[43mnet\u001b[49m\u001b[43m)\u001b[49m\n\u001b[0;32m      7\u001b[0m     activation_state \u001b[38;5;241m=\u001b[39m add_activations(senders, receivers, activation_state)\n\u001b[0;32m      8\u001b[0m     activation_state \u001b[38;5;241m=\u001b[39m toggle_receivers(activation_state, net)\n",
      "Cell \u001b[1;32mIn[4], line 4\u001b[0m, in \u001b[0;36mget_active_connections\u001b[1;34m(activation_state, network)\u001b[0m\n\u001b[0;32m      1\u001b[0m \u001b[38;5;28;01mdef\u001b[39;00m \u001b[38;5;21mget_active_connections\u001b[39m(\n\u001b[0;32m      2\u001b[0m     activation_state: ActivationState, network: Network\n\u001b[0;32m      3\u001b[0m ) \u001b[38;5;241m-\u001b[39m\u001b[38;5;241m>\u001b[39m \u001b[38;5;28mtuple\u001b[39m[jnp\u001b[38;5;241m.\u001b[39mndarray, jnp\u001b[38;5;241m.\u001b[39mndarray]:\n\u001b[1;32m----> 4\u001b[0m     active_senders_indices \u001b[38;5;241m=\u001b[39m \u001b[43mjnp\u001b[49m\u001b[38;5;241;43m.\u001b[39;49m\u001b[43mwhere\u001b[49m\u001b[43m(\u001b[49m\u001b[43mactivation_state\u001b[49m\u001b[38;5;241;43m.\u001b[39;49m\u001b[43mtoggled\u001b[49m\u001b[43m[\u001b[49m\u001b[43mnetwork\u001b[49m\u001b[38;5;241;43m.\u001b[39;49m\u001b[43msenders\u001b[49m\u001b[43m]\u001b[49m\u001b[43m \u001b[49m\u001b[38;5;241;43m>\u001b[39;49m\u001b[43m \u001b[49m\u001b[38;5;241;43m0\u001b[39;49m\u001b[43m)\u001b[49m[\u001b[38;5;241m0\u001b[39m]\n\u001b[0;32m      6\u001b[0m     active_senders \u001b[38;5;241m=\u001b[39m jnp\u001b[38;5;241m.\u001b[39mtake(network\u001b[38;5;241m.\u001b[39msenders, active_senders_indices, axis\u001b[38;5;241m=\u001b[39m\u001b[38;5;241m0\u001b[39m)\n\u001b[0;32m      7\u001b[0m     active_receivers \u001b[38;5;241m=\u001b[39m jnp\u001b[38;5;241m.\u001b[39mtake(network\u001b[38;5;241m.\u001b[39mreceivers, active_senders_indices, axis\u001b[38;5;241m=\u001b[39m\u001b[38;5;241m0\u001b[39m)\n",
      "File \u001b[1;32mc:\\Users\\ryanp\\AppData\\Local\\pypoetry\\Cache\\virtualenvs\\neat-jax-_g-xH7G6-py3.10\\lib\\site-packages\\jax\\_src\\numpy\\lax_numpy.py:1141\u001b[0m, in \u001b[0;36mwhere\u001b[1;34m(acondition, if_true, if_false, size, fill_value, condition, x, y)\u001b[0m\n\u001b[0;32m   1139\u001b[0m \u001b[38;5;28;01mif\u001b[39;00m if_true \u001b[38;5;129;01mis\u001b[39;00m \u001b[38;5;28;01mNone\u001b[39;00m \u001b[38;5;129;01mand\u001b[39;00m if_false \u001b[38;5;129;01mis\u001b[39;00m \u001b[38;5;28;01mNone\u001b[39;00m:\n\u001b[0;32m   1140\u001b[0m   util\u001b[38;5;241m.\u001b[39mcheck_arraylike(\u001b[38;5;124m\"\u001b[39m\u001b[38;5;124mwhere\u001b[39m\u001b[38;5;124m\"\u001b[39m, acondition)\n\u001b[1;32m-> 1141\u001b[0m   \u001b[38;5;28;01mreturn\u001b[39;00m \u001b[43mnonzero\u001b[49m\u001b[43m(\u001b[49m\u001b[43macondition\u001b[49m\u001b[43m,\u001b[49m\u001b[43m \u001b[49m\u001b[43msize\u001b[49m\u001b[38;5;241;43m=\u001b[39;49m\u001b[43msize\u001b[49m\u001b[43m,\u001b[49m\u001b[43m \u001b[49m\u001b[43mfill_value\u001b[49m\u001b[38;5;241;43m=\u001b[39;49m\u001b[43mfill_value\u001b[49m\u001b[43m)\u001b[49m\n\u001b[0;32m   1142\u001b[0m \u001b[38;5;28;01melse\u001b[39;00m:\n\u001b[0;32m   1143\u001b[0m   util\u001b[38;5;241m.\u001b[39mcheck_arraylike(\u001b[38;5;124m\"\u001b[39m\u001b[38;5;124mwhere\u001b[39m\u001b[38;5;124m\"\u001b[39m, acondition, if_true, if_false)\n",
      "File \u001b[1;32mc:\\Users\\ryanp\\AppData\\Local\\pypoetry\\Cache\\virtualenvs\\neat-jax-_g-xH7G6-py3.10\\lib\\site-packages\\jax\\_src\\numpy\\lax_numpy.py:1416\u001b[0m, in \u001b[0;36mnonzero\u001b[1;34m(***failed resolving arguments***)\u001b[0m\n\u001b[0;32m   1414\u001b[0m mask \u001b[38;5;241m=\u001b[39m arr \u001b[38;5;28;01mif\u001b[39;00m arr\u001b[38;5;241m.\u001b[39mdtype \u001b[38;5;241m==\u001b[39m \u001b[38;5;28mbool\u001b[39m \u001b[38;5;28;01melse\u001b[39;00m (arr \u001b[38;5;241m!=\u001b[39m \u001b[38;5;241m0\u001b[39m)\n\u001b[0;32m   1415\u001b[0m calculated_size \u001b[38;5;241m=\u001b[39m mask\u001b[38;5;241m.\u001b[39msum() \u001b[38;5;28;01mif\u001b[39;00m size \u001b[38;5;129;01mis\u001b[39;00m \u001b[38;5;28;01mNone\u001b[39;00m \u001b[38;5;28;01melse\u001b[39;00m size\n\u001b[1;32m-> 1416\u001b[0m calculated_size \u001b[38;5;241m=\u001b[39m \u001b[43mcore\u001b[49m\u001b[38;5;241;43m.\u001b[39;49m\u001b[43mconcrete_dim_or_error\u001b[49m\u001b[43m(\u001b[49m\u001b[43mcalculated_size\u001b[49m\u001b[43m,\u001b[49m\n\u001b[0;32m   1417\u001b[0m \u001b[43m  \u001b[49m\u001b[38;5;124;43m\"\u001b[39;49m\u001b[38;5;124;43mThe size argument of jnp.nonzero must be statically specified \u001b[39;49m\u001b[38;5;124;43m\"\u001b[39;49m\n\u001b[0;32m   1418\u001b[0m \u001b[43m  \u001b[49m\u001b[38;5;124;43m\"\u001b[39;49m\u001b[38;5;124;43mto use jnp.nonzero within JAX transformations.\u001b[39;49m\u001b[38;5;124;43m\"\u001b[39;49m\u001b[43m)\u001b[49m\n\u001b[0;32m   1419\u001b[0m \u001b[38;5;28;01mif\u001b[39;00m arr\u001b[38;5;241m.\u001b[39msize \u001b[38;5;241m==\u001b[39m \u001b[38;5;241m0\u001b[39m \u001b[38;5;129;01mor\u001b[39;00m calculated_size \u001b[38;5;241m==\u001b[39m \u001b[38;5;241m0\u001b[39m:\n\u001b[0;32m   1420\u001b[0m   \u001b[38;5;28;01mreturn\u001b[39;00m \u001b[38;5;28mtuple\u001b[39m(zeros(calculated_size, \u001b[38;5;28mint\u001b[39m) \u001b[38;5;28;01mfor\u001b[39;00m dim \u001b[38;5;129;01min\u001b[39;00m arr\u001b[38;5;241m.\u001b[39mshape)\n",
      "    \u001b[1;31m[... skipping hidden 1 frame]\u001b[0m\n",
      "File \u001b[1;32mc:\\Users\\ryanp\\AppData\\Local\\pypoetry\\Cache\\virtualenvs\\neat-jax-_g-xH7G6-py3.10\\lib\\site-packages\\jax\\_src\\core.py:1527\u001b[0m, in \u001b[0;36mconcrete_or_error\u001b[1;34m(force, val, context)\u001b[0m\n\u001b[0;32m   1525\u001b[0m     \u001b[38;5;28;01mreturn\u001b[39;00m force(val\u001b[38;5;241m.\u001b[39maval\u001b[38;5;241m.\u001b[39mval)\n\u001b[0;32m   1526\u001b[0m   \u001b[38;5;28;01melse\u001b[39;00m:\n\u001b[1;32m-> 1527\u001b[0m     \u001b[38;5;28;01mraise\u001b[39;00m ConcretizationTypeError(val, context)\n\u001b[0;32m   1528\u001b[0m \u001b[38;5;28;01melse\u001b[39;00m:\n\u001b[0;32m   1529\u001b[0m   \u001b[38;5;28;01mreturn\u001b[39;00m force(val)\n",
      "\u001b[1;31mConcretizationTypeError\u001b[0m: Abstract tracer value encountered where concrete value is expected: traced array with shape int32[].\nThe size argument of jnp.nonzero must be statically specified to use jnp.nonzero within JAX transformations.\nThe error occurred while tracing the function body_fn at C:\\Users\\ryanp\\AppData\\Local\\Temp\\ipykernel_35224\\3719556624.py:4 for while_loop. This concrete value was not available in Python because it depends on the values of the arguments val[0].toggled and val[1].senders.\n\nSee https://jax.readthedocs.io/en/latest/errors.html#jax.errors.ConcretizationTypeError"
     ]
    }
   ],
   "source": [
    "def termination_fn(x: jnp.ndarray) -> bool: \n",
    "    return jnp.all(x == 0)\n",
    "\n",
    "def body_fn(val: tuple):\n",
    "    activation_state, net = val\n",
    "    senders, receivers = get_active_connections(activation_state, net)\n",
    "    activation_state = add_activations(senders, receivers, activation_state)\n",
    "    activation_state = toggle_receivers(activation_state, net)\n",
    "\n",
    "    return activation_state, net\n",
    "\n",
    "jax.lax.while_loop(termination_fn, body_fn, (activation_state, net))"
   ]
  },
  {
   "cell_type": "code",
   "execution_count": null,
   "metadata": {},
   "outputs": [],
   "source": []
  }
 ],
 "metadata": {
  "kernelspec": {
   "display_name": "neat-jax-_g-xH7G6-py3.10",
   "language": "python",
   "name": "python3"
  },
  "language_info": {
   "codemirror_mode": {
    "name": "ipython",
    "version": 3
   },
   "file_extension": ".py",
   "mimetype": "text/x-python",
   "name": "python",
   "nbconvert_exporter": "python",
   "pygments_lexer": "ipython3",
   "version": "3.10.7"
  }
 },
 "nbformat": 4,
 "nbformat_minor": 2
}

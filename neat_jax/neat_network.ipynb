{
 "cells": [
  {
   "cell_type": "code",
   "execution_count": 2,
   "metadata": {},
   "outputs": [],
   "source": [
    "import jax\n",
    "import jax.numpy as jnp\n",
    "import networkx as nx\n",
    "from typing import NamedTuple"
   ]
  },
  {
   "cell_type": "code",
   "execution_count": 3,
   "metadata": {},
   "outputs": [],
   "source": [
    "class Node(NamedTuple):\n",
    "    index: jnp.int32\n",
    "    type: jnp.int32\n",
    "    enabled: jnp.bool_\n",
    "\n",
    "\n",
    "class ActivationState(NamedTuple):\n",
    "    activations: jnp.ndarray\n",
    "    activated_nodes: jnp.ndarray\n",
    "    activation_counts: jnp.ndarray\n",
    "\n",
    "\n",
    "class Network(NamedTuple):\n",
    "    nodes: list[Node]\n",
    "    edges: jnp.ndarray\n",
    "    senders: jnp.ndarray\n",
    "    receivers: jnp.ndarray\n",
    "\n",
    "    @property\n",
    "    def n_nodes(self) -> int:\n",
    "        return len(self.nodes.index)\n",
    "\n",
    "    @property\n",
    "    def input_nodes(self) -> int:\n",
    "        return jnp.where(self.nodes.type == 1)[0]\n",
    "\n",
    "    @property\n",
    "    def n_inputs(self) -> int:\n",
    "        return len(self.input_nodes)\n",
    "\n",
    "    @property\n",
    "    def n_required_activations(self) -> dict:\n",
    "        \"\"\"\n",
    "        The number of required activations for each receiver node.\n",
    "        \"\"\"\n",
    "        unique, counts = jnp.unique(self.receivers, return_counts=True)\n",
    "        return jnp.zeros(self.n_nodes).at[unique].set(counts)\n",
    "\n",
    "\n",
    "def init_activations(\n",
    "    net: Network, inputs: jnp.ndarray\n",
    ") -> tuple[jnp.ndarray, jnp.ndarray]:\n",
    "    activations = jnp.zeros(net.n_nodes).at[: net.n_inputs].set(inputs)\n",
    "    activated_nodes = jnp.int32(activations > 0)\n",
    "    return activations, activated_nodes"
   ]
  },
  {
   "cell_type": "code",
   "execution_count": 4,
   "metadata": {},
   "outputs": [],
   "source": [
    "def plot_network(net: Network) -> None:\n",
    "    def convert_jraph_to_networkx_graph(net: Network) -> nx.Graph:\n",
    "        n_nodes = len(net.nodes)\n",
    "        n_edges = len(net.edges)\n",
    "\n",
    "        nx_graph = nx.DiGraph()\n",
    "        if net.nodes is None:\n",
    "            for n in range(n_nodes[0]):\n",
    "                nx_graph.add_node(n)\n",
    "        else:\n",
    "            for n in range(n_nodes):\n",
    "                nx_graph.add_node(n, node_feature=net.nodes[n])\n",
    "        if net.edges is None:\n",
    "            for e in range(n_edges):\n",
    "                nx_graph.add_edge(int(net.senders[e]), int(net.receivers[e]))\n",
    "        else:\n",
    "            for e in range(n_edges):\n",
    "                nx_graph.add_edge(\n",
    "                    int(net.senders[e]),\n",
    "                    int(net.receivers[e]),\n",
    "                    edge_feature=net.edges[e],\n",
    "                )\n",
    "        return nx_graph\n",
    "\n",
    "    nx_graph = convert_jraph_to_networkx_graph(net)\n",
    "    pos = nx.spring_layout(nx_graph)\n",
    "    nx.draw(nx_graph, pos=pos, with_labels=True, node_size=500, font_color=\"yellow\")"
   ]
  },
  {
   "cell_type": "code",
   "execution_count": 5,
   "metadata": {},
   "outputs": [
    {
     "data": {
      "image/png": "[encoded data removed]",
      "text/plain": [
       "<Figure size 640x480 with 1 Axes>"
      ]
     },
     "metadata": {},
     "output_type": "display_data"
    }
   ],
   "source": [
    "n_nodes = 5\n",
    "nodes = jax.vmap(Node)(\n",
    "    index=jnp.arange(n_nodes),\n",
    "    type=jnp.array([1, 1, 1, 3, 2]),\n",
    "    enabled=jnp.ones(n_nodes),\n",
    ")\n",
    "net = Network(\n",
    "    nodes,\n",
    "    edges=jnp.ones(n_nodes - 1),\n",
    "    senders=jnp.array([0, 1, 2, 4]),\n",
    "    receivers=jnp.array([4, 4, 3, 3]),\n",
    ")\n",
    "plot_network(net)"
   ]
  },
  {
   "cell_type": "code",
   "execution_count": 6,
   "metadata": {},
   "outputs": [],
   "source": [
    "def sigmoid(x):\n",
    "    return 1 / (1 + jnp.exp(-x))"
   ]
  },
  {
   "cell_type": "code",
   "execution_count": 7,
   "metadata": {},
   "outputs": [],
   "source": [
    "def add_activations(\n",
    "    senders: jnp.ndarray,\n",
    "    receivers: jnp.ndarray,\n",
    "    activation_state: ActivationState,\n",
    ") -> ActivationState:\n",
    "    \"\"\"\n",
    "    For given sender nodes, iteratively computes the activation\n",
    "    of receiver nodes while carrying the global activation state.\n",
    "    \"\"\"\n",
    "\n",
    "    def add_single_activation(activation_state: jnp.ndarray, x: tuple) -> jnp.ndarray:\n",
    "        senders, receivers = x\n",
    "        activations = activation_state.activations\n",
    "        activation_counts = activation_state.activation_counts\n",
    "\n",
    "        activations = activations.at[receivers].add(activations[senders])\n",
    "        activation_counts = activation_counts.at[receivers].add(1)\n",
    "        return (\n",
    "            activation_state._replace(\n",
    "                activations=activations,\n",
    "                activation_counts=activation_counts,\n",
    "            ),\n",
    "            None,\n",
    "        )\n",
    "\n",
    "    activation_state, _ = jax.lax.scan(\n",
    "        add_single_activation,\n",
    "        activation_state,\n",
    "        jnp.stack((senders, receivers), axis=1),\n",
    "    )\n",
    "    return activation_state"
   ]
  },
  {
   "cell_type": "code",
   "execution_count": 8,
   "metadata": {},
   "outputs": [],
   "source": [
    "def get_receivers(net: Network, senders: int) -> jnp.ndarray:\n",
    "    \"\"\"\n",
    "    Returns the receiver nodes indices for a given list of senders.\n",
    "    \"\"\"\n",
    "    return jax.tree_map(lambda s: net.receivers[s], senders)"
   ]
  },
  {
   "cell_type": "code",
   "execution_count": 9,
   "metadata": {},
   "outputs": [],
   "source": [
    "def update_activated_neurons(\n",
    "    net: Network,\n",
    "    senders: jnp.ndarray,\n",
    "    receivers: jnp.ndarray,\n",
    "    activation_state: ActivationState,\n",
    ") -> ActivationState:\n",
    "\n",
    "    def toggle_receivers(\n",
    "        net: Network,\n",
    "        receivers: jnp.ndarray,\n",
    "        activation_state: ActivationState,\n",
    "    ) -> jnp.ndarray:\n",
    "\n",
    "        def is_activated(\n",
    "            net: Network, index: int, activation_counts: jnp.ndarray\n",
    "        ) -> jnp.int32:\n",
    "            return jnp.int32(\n",
    "                net.n_required_activations[index] == activation_counts[index]\n",
    "            )\n",
    "\n",
    "        unique_receivers = jnp.unique(receivers)\n",
    "        toggle_nodes = jax.vmap(is_activated, in_axes=(None, 0, None))(\n",
    "            net, unique_receivers, activation_state.activation_counts\n",
    "        )\n",
    "\n",
    "        # TODO: add sigmoid\n",
    "        return activation_state.activated_nodes.at[unique_receivers].set(toggle_nodes)\n",
    "\n",
    "    def deactivate_past_senders(\n",
    "        activations: jnp.ndarray, nodes_indices: jnp.ndarray\n",
    "    ) -> jnp.ndarray:\n",
    "        return activations.at[nodes_indices].set(0)\n",
    "\n",
    "    activated_nodes = toggle_receivers(net, receivers, activation_state)\n",
    "    activated_nodes = deactivate_past_senders(activated_nodes, senders)\n",
    "\n",
    "    done = jnp.all(\n",
    "        jax.tree_map(\n",
    "            lambda a, b: a == b,\n",
    "            activation_state.activation_counts,\n",
    "            net.n_required_activations,\n",
    "        )\n",
    "    )\n",
    "\n",
    "    activated_nodes = jax.lax.select(\n",
    "        done,\n",
    "        jnp.zeros(net.n_nodes, dtype=jnp.int32),\n",
    "        activated_nodes,\n",
    "    )\n",
    "\n",
    "    return activation_state._replace(activated_nodes=activated_nodes)"
   ]
  },
  {
   "cell_type": "code",
   "execution_count": 10,
   "metadata": {},
   "outputs": [
    {
     "name": "stdout",
     "output_type": "stream",
     "text": [
      "x=Array([0.5, 0.8, 0.2, 0.2, 1.3], dtype=float32)\n",
      "x=Array([0, 0, 0, 0, 1], dtype=int32)\n",
      "x=Array([0., 0., 0., 1., 2.], dtype=float32)\n",
      "ActivationState(activations=None, activated_nodes=None, activation_counts=None)\n",
      "[4] [3]\n",
      "x=Array([0.5, 0.8, 0.2, 1.5, 1.3], dtype=float32)\n",
      "x=Array([0, 0, 0, 0, 0], dtype=int32)\n",
      "x=Array([0., 0., 0., 2., 2.], dtype=float32)\n",
      "ActivationState(activations=None, activated_nodes=None, activation_counts=None)\n",
      "[] []\n"
     ]
    }
   ],
   "source": [
    "inputs = jnp.array([0.5, 0.8, 0.2])\n",
    "activations, activated_nodes = init_activations(net, inputs)\n",
    "activation_counts = jnp.zeros(net.n_nodes)\n",
    "\n",
    "activation_state = ActivationState(activations, activated_nodes, activation_counts)\n",
    "\n",
    "senders = net.input_nodes\n",
    "receivers = get_receivers(net, senders)\n",
    "\n",
    "while activation_state.activated_nodes.sum() > 0 :\n",
    "    activation_state = add_activations(senders, receivers, activation_state)\n",
    "    activation_state = update_activated_neurons(net, senders, receivers, activation_state)\n",
    "    senders = jnp.nonzero(activation_state.activated_nodes)[0]\n",
    "    receivers = get_receivers(net, senders)\n",
    "    print(jax.tree_map(lambda x: print(f\"{x=}\"), activation_state))\n",
    "    print(senders, receivers)"
   ]
  },
  {
   "cell_type": "markdown",
   "metadata": {},
   "source": [
    "```python\n",
    "def while_loop(cond_fun, body_fun, init_val):\n",
    "  val = init_val\n",
    "  while cond_fun(val):\n",
    "    val = body_fun(val)\n",
    "  return val\n",
    "```"
   ]
  },
  {
   "cell_type": "code",
   "execution_count": 11,
   "metadata": {},
   "outputs": [
    {
     "ename": "ConcretizationTypeError",
     "evalue": "Abstract tracer value encountered where concrete value is expected: traced array with shape int32[3].\nThe error arose for the first argument of jnp.unique(). To make jnp.unique() compatible with JIT and other transforms, you can specify a concrete value for the size argument, which will determine the output size.\nThe error occurred while tracing the function body_fn at C:\\Users\\ryanp\\AppData\\Local\\Temp\\ipykernel_32084\\886975513.py:15 for while_loop. This concrete value was not available in Python because it depends on the value of the argument val[2].\n\nSee https://jax.readthedocs.io/en/latest/errors.html#jax.errors.ConcretizationTypeError",
     "output_type": "error",
     "traceback": [
      "\u001b[1;31m---------------------------------------------------------------------------\u001b[0m",
      "\u001b[1;31mConcretizationTypeError\u001b[0m                   Traceback (most recent call last)",
      "Cell \u001b[1;32mIn[11], line 26\u001b[0m\n\u001b[0;32m     21\u001b[0m     receivers \u001b[38;5;241m=\u001b[39m get_receivers(net, senders)\n\u001b[0;32m     23\u001b[0m     \u001b[38;5;28;01mreturn\u001b[39;00m (activation_state, senders, receivers)\n\u001b[1;32m---> 26\u001b[0m \u001b[43mjax\u001b[49m\u001b[38;5;241;43m.\u001b[39;49m\u001b[43mlax\u001b[49m\u001b[38;5;241;43m.\u001b[39;49m\u001b[43mwhile_loop\u001b[49m\u001b[43m(\u001b[49m\u001b[43mcheck_termination\u001b[49m\u001b[43m,\u001b[49m\u001b[43m \u001b[49m\u001b[43mbody_fn\u001b[49m\u001b[43m,\u001b[49m\u001b[43m \u001b[49m\u001b[43m(\u001b[49m\u001b[43mactivation_state\u001b[49m\u001b[43m,\u001b[49m\u001b[43m \u001b[49m\u001b[43msenders\u001b[49m\u001b[43m,\u001b[49m\u001b[43m \u001b[49m\u001b[43mreceivers\u001b[49m\u001b[43m)\u001b[49m\u001b[43m)\u001b[49m\n",
      "    \u001b[1;31m[... skipping hidden 9 frame]\u001b[0m\n",
      "Cell \u001b[1;32mIn[11], line 19\u001b[0m, in \u001b[0;36mbody_fn\u001b[1;34m(val)\u001b[0m\n\u001b[0;32m     16\u001b[0m activation_state, senders, receivers \u001b[38;5;241m=\u001b[39m val\n\u001b[0;32m     18\u001b[0m activation_state \u001b[38;5;241m=\u001b[39m add_activations(senders, receivers, activation_state)\n\u001b[1;32m---> 19\u001b[0m activation_state \u001b[38;5;241m=\u001b[39m \u001b[43mupdate_activated_neurons\u001b[49m\u001b[43m(\u001b[49m\u001b[43mnet\u001b[49m\u001b[43m,\u001b[49m\u001b[43m \u001b[49m\u001b[43msenders\u001b[49m\u001b[43m,\u001b[49m\u001b[43m \u001b[49m\u001b[43mreceivers\u001b[49m\u001b[43m,\u001b[49m\u001b[43m \u001b[49m\u001b[43mactivation_state\u001b[49m\u001b[43m)\u001b[49m\n\u001b[0;32m     20\u001b[0m senders \u001b[38;5;241m=\u001b[39m jnp\u001b[38;5;241m.\u001b[39mnonzero(activation_state\u001b[38;5;241m.\u001b[39mactivated_nodes)[\u001b[38;5;241m0\u001b[39m]\n\u001b[0;32m     21\u001b[0m receivers \u001b[38;5;241m=\u001b[39m get_receivers(net, senders)\n",
      "Cell \u001b[1;32mIn[9], line 34\u001b[0m, in \u001b[0;36mupdate_activated_neurons\u001b[1;34m(net, senders, receivers, activation_state)\u001b[0m\n\u001b[0;32m     29\u001b[0m \u001b[38;5;28;01mdef\u001b[39;00m \u001b[38;5;21mdeactivate_past_senders\u001b[39m(\n\u001b[0;32m     30\u001b[0m     activations: jnp\u001b[38;5;241m.\u001b[39mndarray, nodes_indices: jnp\u001b[38;5;241m.\u001b[39mndarray\n\u001b[0;32m     31\u001b[0m ) \u001b[38;5;241m-\u001b[39m\u001b[38;5;241m>\u001b[39m jnp\u001b[38;5;241m.\u001b[39mndarray:\n\u001b[0;32m     32\u001b[0m     \u001b[38;5;28;01mreturn\u001b[39;00m activations\u001b[38;5;241m.\u001b[39mat[nodes_indices]\u001b[38;5;241m.\u001b[39mset(\u001b[38;5;241m0\u001b[39m)\n\u001b[1;32m---> 34\u001b[0m activated_nodes \u001b[38;5;241m=\u001b[39m \u001b[43mtoggle_receivers\u001b[49m\u001b[43m(\u001b[49m\u001b[43mnet\u001b[49m\u001b[43m,\u001b[49m\u001b[43m \u001b[49m\u001b[43mreceivers\u001b[49m\u001b[43m,\u001b[49m\u001b[43m \u001b[49m\u001b[43mactivation_state\u001b[49m\u001b[43m)\u001b[49m\n\u001b[0;32m     35\u001b[0m activated_nodes \u001b[38;5;241m=\u001b[39m deactivate_past_senders(activated_nodes, senders)\n\u001b[0;32m     37\u001b[0m done \u001b[38;5;241m=\u001b[39m jnp\u001b[38;5;241m.\u001b[39mall(\n\u001b[0;32m     38\u001b[0m     jax\u001b[38;5;241m.\u001b[39mtree_map(\n\u001b[0;32m     39\u001b[0m         \u001b[38;5;28;01mlambda\u001b[39;00m a, b: a \u001b[38;5;241m==\u001b[39m b,\n\u001b[1;32m   (...)\u001b[0m\n\u001b[0;32m     42\u001b[0m     )\n\u001b[0;32m     43\u001b[0m )\n",
      "Cell \u001b[1;32mIn[9], line 21\u001b[0m, in \u001b[0;36mupdate_activated_neurons.<locals>.toggle_receivers\u001b[1;34m(net, receivers, activation_state)\u001b[0m\n\u001b[0;32m     14\u001b[0m \u001b[38;5;28;01mdef\u001b[39;00m \u001b[38;5;21mis_activated\u001b[39m(\n\u001b[0;32m     15\u001b[0m     net: Network, index: \u001b[38;5;28mint\u001b[39m, activation_counts: jnp\u001b[38;5;241m.\u001b[39mndarray\n\u001b[0;32m     16\u001b[0m ) \u001b[38;5;241m-\u001b[39m\u001b[38;5;241m>\u001b[39m jnp\u001b[38;5;241m.\u001b[39mint32:\n\u001b[0;32m     17\u001b[0m     \u001b[38;5;28;01mreturn\u001b[39;00m jnp\u001b[38;5;241m.\u001b[39mint32(\n\u001b[0;32m     18\u001b[0m         net\u001b[38;5;241m.\u001b[39mn_required_activations[index] \u001b[38;5;241m==\u001b[39m activation_counts[index]\n\u001b[0;32m     19\u001b[0m     )\n\u001b[1;32m---> 21\u001b[0m unique_receivers \u001b[38;5;241m=\u001b[39m \u001b[43mjnp\u001b[49m\u001b[38;5;241;43m.\u001b[39;49m\u001b[43munique\u001b[49m\u001b[43m(\u001b[49m\u001b[43mreceivers\u001b[49m\u001b[43m)\u001b[49m\n\u001b[0;32m     22\u001b[0m toggle_nodes \u001b[38;5;241m=\u001b[39m jax\u001b[38;5;241m.\u001b[39mvmap(is_activated, in_axes\u001b[38;5;241m=\u001b[39m(\u001b[38;5;28;01mNone\u001b[39;00m, \u001b[38;5;241m0\u001b[39m, \u001b[38;5;28;01mNone\u001b[39;00m))(\n\u001b[0;32m     23\u001b[0m     net, unique_receivers, activation_state\u001b[38;5;241m.\u001b[39mactivation_counts\n\u001b[0;32m     24\u001b[0m )\n\u001b[0;32m     26\u001b[0m \u001b[38;5;66;03m# TODO: add sigmoid\u001b[39;00m\n",
      "File \u001b[1;32mc:\\Users\\ryanp\\AppData\\Local\\pypoetry\\Cache\\virtualenvs\\neat-jax-_g-xH7G6-py3.10\\lib\\site-packages\\jax\\_src\\numpy\\setops.py:334\u001b[0m, in \u001b[0;36munique\u001b[1;34m(ar, return_index, return_inverse, return_counts, axis, size, fill_value)\u001b[0m\n\u001b[0;32m    332\u001b[0m check_arraylike(\u001b[38;5;124m\"\u001b[39m\u001b[38;5;124munique\u001b[39m\u001b[38;5;124m\"\u001b[39m, ar)\n\u001b[0;32m    333\u001b[0m \u001b[38;5;28;01mif\u001b[39;00m size \u001b[38;5;129;01mis\u001b[39;00m \u001b[38;5;28;01mNone\u001b[39;00m:\n\u001b[1;32m--> 334\u001b[0m   ar \u001b[38;5;241m=\u001b[39m \u001b[43mcore\u001b[49m\u001b[38;5;241;43m.\u001b[39;49m\u001b[43mconcrete_or_error\u001b[49m\u001b[43m(\u001b[49m\u001b[38;5;28;43;01mNone\u001b[39;49;00m\u001b[43m,\u001b[49m\u001b[43m \u001b[49m\u001b[43mar\u001b[49m\u001b[43m,\u001b[49m\n\u001b[0;32m    335\u001b[0m \u001b[43m      \u001b[49m\u001b[38;5;124;43m\"\u001b[39;49m\u001b[38;5;124;43mThe error arose for the first argument of jnp.unique(). \u001b[39;49m\u001b[38;5;124;43m\"\u001b[39;49m\u001b[43m \u001b[49m\u001b[38;5;241;43m+\u001b[39;49m\u001b[43m \u001b[49m\u001b[43mUNIQUE_SIZE_HINT\u001b[49m\u001b[43m)\u001b[49m\n\u001b[0;32m    336\u001b[0m \u001b[38;5;28;01melse\u001b[39;00m:\n\u001b[0;32m    337\u001b[0m   size \u001b[38;5;241m=\u001b[39m core\u001b[38;5;241m.\u001b[39mconcrete_or_error(operator\u001b[38;5;241m.\u001b[39mindex, size,\n\u001b[0;32m    338\u001b[0m        \u001b[38;5;124m\"\u001b[39m\u001b[38;5;124mThe error arose for the size argument of jnp.unique(). \u001b[39m\u001b[38;5;124m\"\u001b[39m \u001b[38;5;241m+\u001b[39m UNIQUE_SIZE_HINT)\n",
      "File \u001b[1;32mc:\\Users\\ryanp\\AppData\\Local\\pypoetry\\Cache\\virtualenvs\\neat-jax-_g-xH7G6-py3.10\\lib\\site-packages\\jax\\_src\\core.py:1527\u001b[0m, in \u001b[0;36mconcrete_or_error\u001b[1;34m(force, val, context)\u001b[0m\n\u001b[0;32m   1525\u001b[0m     \u001b[38;5;28;01mreturn\u001b[39;00m force(val\u001b[38;5;241m.\u001b[39maval\u001b[38;5;241m.\u001b[39mval)\n\u001b[0;32m   1526\u001b[0m   \u001b[38;5;28;01melse\u001b[39;00m:\n\u001b[1;32m-> 1527\u001b[0m     \u001b[38;5;28;01mraise\u001b[39;00m ConcretizationTypeError(val, context)\n\u001b[0;32m   1528\u001b[0m \u001b[38;5;28;01melse\u001b[39;00m:\n\u001b[0;32m   1529\u001b[0m   \u001b[38;5;28;01mreturn\u001b[39;00m force(val)\n",
      "\u001b[1;31mConcretizationTypeError\u001b[0m: Abstract tracer value encountered where concrete value is expected: traced array with shape int32[3].\nThe error arose for the first argument of jnp.unique(). To make jnp.unique() compatible with JIT and other transforms, you can specify a concrete value for the size argument, which will determine the output size.\nThe error occurred while tracing the function body_fn at C:\\Users\\ryanp\\AppData\\Local\\Temp\\ipykernel_32084\\886975513.py:15 for while_loop. This concrete value was not available in Python because it depends on the value of the argument val[2].\n\nSee https://jax.readthedocs.io/en/latest/errors.html#jax.errors.ConcretizationTypeError"
     ]
    }
   ],
   "source": [
    "inputs = jnp.array([0.5, 0.8, 0.2])\n",
    "activations, activated_nodes = init_activations(net, inputs)\n",
    "activation_counts = jnp.zeros(net.n_nodes)\n",
    "\n",
    "activation_state = ActivationState(activations, activated_nodes, activation_counts)\n",
    "\n",
    "senders = net.input_nodes\n",
    "receivers = get_receivers(net, senders)\n",
    "\n",
    "\n",
    "def check_termination(val: tuple) -> bool:\n",
    "    activation_state, _, _  = val\n",
    "    return activation_state.activated_nodes.sum() > 0\n",
    "\n",
    "def body_fn(val: tuple) -> tuple:\n",
    "    activation_state, senders, receivers = val\n",
    "\n",
    "    activation_state = add_activations(senders, receivers, activation_state)\n",
    "    activation_state = update_activated_neurons(net, senders, receivers, activation_state)\n",
    "    senders = jnp.nonzero(activation_state.activated_nodes)[0]\n",
    "    receivers = get_receivers(net, senders)\n",
    "\n",
    "    return (activation_state, senders, receivers)\n",
    "\n",
    "\n",
    "jax.lax.while_loop(check_termination, body_fn, (activation_state, senders, receivers))"
   ]
  }
 ],
 "metadata": {
  "kernelspec": {
   "display_name": "neat-jax-_g-xH7G6-py3.10",
   "language": "python",
   "name": "python3"
  },
  "language_info": {
   "codemirror_mode": {
    "name": "ipython",
    "version": 3
   },
   "file_extension": ".py",
   "mimetype": "text/x-python",
   "name": "python",
   "nbconvert_exporter": "python",
   "pygments_lexer": "ipython3",
   "version": "3.10.7"
  }
 },
 "nbformat": 4,
 "nbformat_minor": 2
}

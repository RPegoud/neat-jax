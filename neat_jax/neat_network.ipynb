{
 "cells": [
  {
   "cell_type": "code",
   "execution_count": 1,
   "metadata": {},
   "outputs": [],
   "source": [
    "import jax\n",
    "import jax.numpy as jnp\n",
    "import networkx as nx\n",
    "from typing import NamedTuple"
   ]
  },
  {
   "cell_type": "code",
   "execution_count": 2,
   "metadata": {},
   "outputs": [],
   "source": [
    "class Node(NamedTuple):\n",
    "    index: jnp.int32\n",
    "    type: jnp.int32\n",
    "    enabled: jnp.bool_\n",
    "\n",
    "class ActivationState(NamedTuple):\n",
    "    activations: jnp.ndarray\n",
    "    activated_nodes: jnp.ndarray\n",
    "    activation_counts: jnp.ndarray\n",
    "\n",
    "class Network(NamedTuple):\n",
    "    nodes: list[Node]\n",
    "    edges: jnp.ndarray\n",
    "    senders: jnp.ndarray\n",
    "    receivers: jnp.ndarray\n",
    "\n",
    "    @property\n",
    "    def n_nodes(self) -> int:\n",
    "        return len(self.nodes.index)\n",
    "\n",
    "    @property\n",
    "    def input_nodes(self) -> int:\n",
    "        return jnp.where(self.nodes.type == 1)[0]\n",
    "\n",
    "    @property\n",
    "    def n_inputs(self) -> int:\n",
    "        return len(self.input_nodes)\n",
    "\n",
    "    @property\n",
    "    def n_required_activations(self) -> dict:\n",
    "        \"\"\"\n",
    "        Returns the number of required activations for each\n",
    "        non-input node.\n",
    "        \"\"\"\n",
    "        unique, counts = jnp.unique(self.receivers, return_counts=True)\n",
    "        return jnp.zeros(self.n_nodes).at[unique].set(counts)\n",
    "\n",
    "\n",
    "def init_activations(\n",
    "    net: Network, inputs: jnp.ndarray\n",
    ") -> tuple[jnp.ndarray, jnp.ndarray]:\n",
    "    activations = jnp.zeros(net.n_nodes).at[: net.n_inputs].set(inputs)\n",
    "    activated_nodes = jnp.int32(activations > 0)\n",
    "    return activations, activated_nodes"
   ]
  },
  {
   "cell_type": "code",
   "execution_count": 3,
   "metadata": {},
   "outputs": [],
   "source": [
    "def plot_network(net: Network) -> None:\n",
    "    def convert_jraph_to_networkx_graph(net: Network) -> nx.Graph:\n",
    "        n_nodes = len(net.nodes)\n",
    "        n_edges = len(net.edges)\n",
    "\n",
    "        nx_graph = nx.DiGraph()\n",
    "        if net.nodes is None:\n",
    "            for n in range(n_nodes[0]):\n",
    "                nx_graph.add_node(n)\n",
    "        else:\n",
    "            for n in range(n_nodes):\n",
    "                nx_graph.add_node(n, node_feature=net.nodes[n])\n",
    "        if net.edges is None:\n",
    "            for e in range(n_edges):\n",
    "                nx_graph.add_edge(int(net.senders[e]), int(net.receivers[e]))\n",
    "        else:\n",
    "            for e in range(n_edges):\n",
    "                nx_graph.add_edge(\n",
    "                    int(net.senders[e]),\n",
    "                    int(net.receivers[e]),\n",
    "                    edge_feature=net.edges[e],\n",
    "                )\n",
    "        return nx_graph\n",
    "\n",
    "    nx_graph = convert_jraph_to_networkx_graph(net)\n",
    "    pos = nx.spring_layout(nx_graph)\n",
    "    nx.draw(nx_graph, pos=pos, with_labels=True, node_size=500, font_color=\"yellow\")"
   ]
  },
  {
   "cell_type": "code",
   "execution_count": 4,
   "metadata": {},
   "outputs": [
    {
     "data": {
      "image/png": "[encoded data removed]",
      "text/plain": [
       "<Figure size 640x480 with 1 Axes>"
      ]
     },
     "metadata": {},
     "output_type": "display_data"
    }
   ],
   "source": [
    "n_nodes = 5\n",
    "nodes = jax.vmap(Node)(\n",
    "    index=jnp.arange(n_nodes),\n",
    "    type=jnp.array([1, 1, 1, 2, 3]),\n",
    "    enabled=jnp.ones(n_nodes),\n",
    ")\n",
    "net = Network(\n",
    "    nodes,\n",
    "    edges=jnp.ones(n_nodes - 1),\n",
    "    senders=jnp.array([0, 1, 2, 3]),\n",
    "    receivers=jnp.array([3, 3, 4, 4]),\n",
    ")\n",
    "plot_network(net)"
   ]
  },
  {
   "cell_type": "code",
   "execution_count": 5,
   "metadata": {},
   "outputs": [],
   "source": [
    "def sigmoid(x):\n",
    "    return 1 / (1 + jnp.exp(-x))"
   ]
  },
  {
   "cell_type": "code",
   "execution_count": 7,
   "metadata": {},
   "outputs": [],
   "source": [
    "def add_activations(\n",
    "    senders: jnp.ndarray,\n",
    "    receivers: jnp.ndarray,\n",
    "    activation_state: ActivationState,\n",
    ") -> ActivationState:\n",
    "    \"\"\"\n",
    "    For given sender nodes, iteratively computes the activation\n",
    "    of receiver nodes while carrying the global activation state.\n",
    "    \"\"\"\n",
    "\n",
    "    def add_single_activation(activation_state: jnp.ndarray, x: tuple) -> jnp.ndarray:\n",
    "        sender, receiver = x\n",
    "        activations = activation_state.activations\n",
    "        activation_counts = activation_state.activation_counts\n",
    "\n",
    "        activations = activations.at[receiver].add(activations[sender])\n",
    "        activation_counts = activation_counts.at[receiver].add(1)\n",
    "        return (\n",
    "            activation_state._replace(\n",
    "                activations=activations,\n",
    "                activation_counts=activation_counts,\n",
    "            ),\n",
    "            None,\n",
    "        )\n",
    "\n",
    "    (activation_state), _ = jax.lax.scan(\n",
    "        add_single_activation,\n",
    "        activation_state,\n",
    "        jnp.stack((senders, receivers), axis=1),\n",
    "    )\n",
    "    return activation_state"
   ]
  },
  {
   "cell_type": "code",
   "execution_count": 8,
   "metadata": {},
   "outputs": [],
   "source": [
    "def get_receivers(net: Network, senders: int) -> jnp.ndarray:\n",
    "    \"\"\"\n",
    "    Returns the receiver nodes indices for a given list of senders.\n",
    "    \"\"\"\n",
    "    return jax.tree_map(lambda s: net.receivers[s], senders)"
   ]
  },
  {
   "cell_type": "code",
   "execution_count": 9,
   "metadata": {},
   "outputs": [],
   "source": [
    "def update_activated_neurons(\n",
    "    net: Network,\n",
    "    senders: jnp.ndarray,\n",
    "    receivers: jnp.ndarray,\n",
    "    activation_state: ActivationState,\n",
    ") -> ActivationState:\n",
    "    def toggle_receivers(\n",
    "        net: Network,\n",
    "        receivers: jnp.ndarray,\n",
    "        activation_state: ActivationState,\n",
    "    ) -> jnp.ndarray:\n",
    "        \n",
    "        def is_activated(\n",
    "            net: Network, index: int, activation_counts: jnp.ndarray\n",
    "        ) -> jnp.int32:\n",
    "            return jnp.int32(\n",
    "                net.n_required_activations[index] == activation_counts[index]\n",
    "            )\n",
    "\n",
    "        unique_receivers = jnp.unique(receivers)\n",
    "        toggle_nodes = jax.vmap(is_activated, in_axes=(None, 0, None))(\n",
    "            net, unique_receivers, activation_state.activation_counts\n",
    "        )\n",
    "        \n",
    "        return activation_state.activated_nodes.at[unique_receivers].set(toggle_nodes)\n",
    "\n",
    "    def deactivate_past_senders(\n",
    "        activations: jnp.ndarray, nodes_indices: jnp.ndarray\n",
    "    ) -> jnp.ndarray:\n",
    "        return activations.at[nodes_indices].set(0)\n",
    "\n",
    "    activated_nodes = toggle_receivers(net, receivers, activation_state)\n",
    "    activated_nodes = deactivate_past_senders(activated_nodes, senders)\n",
    "\n",
    "    return activation_state._replace(activated_nodes=activated_nodes)"
   ]
  },
  {
   "cell_type": "code",
   "execution_count": 10,
   "metadata": {},
   "outputs": [],
   "source": [
    "inputs = jnp.array([0.5, 0.8, 0.2])\n",
    "activations, activated_nodes = init_activations(net, inputs)\n",
    "activation_counts = jnp.zeros(net.n_nodes)\n",
    "\n",
    "activation_state = ActivationState(activations, activated_nodes, activation_counts)\n",
    "\n",
    "senders = net.input_nodes\n",
    "receivers = get_receivers(net, senders)"
   ]
  },
  {
   "cell_type": "code",
   "execution_count": 11,
   "metadata": {},
   "outputs": [
    {
     "name": "stdout",
     "output_type": "stream",
     "text": [
      "x=Array([0.5, 0.8, 0.2, 1.3, 0.2], dtype=float32)\n",
      "x=Array([1, 1, 1, 0, 0], dtype=int32)\n",
      "x=Array([0., 0., 0., 2., 1.], dtype=float32)\n"
     ]
    },
    {
     "data": {
      "text/plain": [
       "ActivationState(activations=None, activated_nodes=None, activation_counts=None)"
      ]
     },
     "execution_count": 11,
     "metadata": {},
     "output_type": "execute_result"
    }
   ],
   "source": [
    "activation_state = add_activations(senders, receivers, activation_state)\n",
    "jax.tree_map(lambda x: print(f\"{x=}\"), activation_state)"
   ]
  },
  {
   "cell_type": "code",
   "execution_count": 12,
   "metadata": {},
   "outputs": [
    {
     "name": "stdout",
     "output_type": "stream",
     "text": [
      "x=Array([0.5, 0.8, 0.2, 1.3, 0.2], dtype=float32)\n",
      "x=Array([0, 0, 0, 1, 0], dtype=int32)\n",
      "x=Array([0., 0., 0., 2., 1.], dtype=float32)\n"
     ]
    },
    {
     "data": {
      "text/plain": [
       "ActivationState(activations=None, activated_nodes=None, activation_counts=None)"
      ]
     },
     "execution_count": 12,
     "metadata": {},
     "output_type": "execute_result"
    }
   ],
   "source": [
    "activation_state = update_activated_neurons(net, senders, receivers, activation_state)\n",
    "jax.tree_map(lambda x: print(f\"{x=}\"), activation_state)"
   ]
  },
  {
   "cell_type": "code",
   "execution_count": 13,
   "metadata": {},
   "outputs": [],
   "source": [
    "senders = jnp.nonzero(activated_nodes)[0]\n",
    "receivers = get_receivers(net, senders)"
   ]
  },
  {
   "cell_type": "code",
   "execution_count": 14,
   "metadata": {},
   "outputs": [
    {
     "name": "stdout",
     "output_type": "stream",
     "text": [
      "x=Array([0.5, 0.8, 0.2, 2.6, 0.4], dtype=float32)\n",
      "x=Array([0, 0, 0, 0, 1], dtype=int32)\n",
      "x=Array([0., 0., 0., 4., 2.], dtype=float32)\n"
     ]
    },
    {
     "data": {
      "text/plain": [
       "ActivationState(activations=None, activated_nodes=None, activation_counts=None)"
      ]
     },
     "execution_count": 14,
     "metadata": {},
     "output_type": "execute_result"
    }
   ],
   "source": [
    "activation_state = add_activations(senders, receivers, activation_state)\n",
    "activation_state = update_activated_neurons(net, senders, receivers, activation_state)\n",
    "jax.tree_map(lambda x: print(f\"{x=}\"), activation_state)"
   ]
  }
 ],
 "metadata": {
  "kernelspec": {
   "display_name": "neat-jax-_g-xH7G6-py3.10",
   "language": "python",
   "name": "python3"
  },
  "language_info": {
   "codemirror_mode": {
    "name": "ipython",
    "version": 3
   },
   "file_extension": ".py",
   "mimetype": "text/x-python",
   "name": "python",
   "nbconvert_exporter": "python",
   "pygments_lexer": "ipython3",
   "version": "3.10.7"
  }
 },
 "nbformat": 4,
 "nbformat_minor": 2
}

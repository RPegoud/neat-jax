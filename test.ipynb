{
 "cells": [
  {
   "cell_type": "code",
   "execution_count": 1,
   "metadata": {},
   "outputs": [],
   "source": [
    "import hydra\n",
    "import jax\n",
    "import jax.numpy as jnp\n",
    "from omegaconf import DictConfig, OmegaConf\n",
    "from hydra import initialize, initialize_config_module, initialize_config_dir, compose\n",
    "from neat_jax import Mutations, forward, init_network, log_config, Network, sample_from_mask\n",
    "import chex\n",
    "\n",
    "\n",
    "INPUT_SIZE = 3\n",
    "OUTPUT_SIZE = 2"
   ]
  },
  {
   "cell_type": "code",
   "execution_count": 2,
   "metadata": {},
   "outputs": [],
   "source": [
    "with initialize(\"neat_jax/configs\", version_base=\"1.3.2\"):\n",
    "    config = compose(config_name=\"default_config\")"
   ]
  },
  {
   "cell_type": "code",
   "execution_count": 10,
   "metadata": {},
   "outputs": [
    {
     "name": "stdout",
     "output_type": "stream",
     "text": [
      "\u001b[34m\u001b[1mRunning Neat experiment:\n",
      "\u001b[32m\u001b[1mHyperparameters:\u001b[22m{\n",
      "    \"env\": {\n",
      "        \"kwargs\": {},\n",
      "        \"scenario\": {\n",
      "            \"name\": \"CartPole-v1\",\n",
      "            \"task_name\": \"cartpole\"\n",
      "        },\n",
      "        \"suit_name\": \"gymnax\"\n",
      "    },\n",
      "    \"input_size\": 3,\n",
      "    \"mutations\": {\n",
      "        \"activation_fn_mutation_rate\": 1.0,\n",
      "        \"add_connection_rate\": 0.05,\n",
      "        \"add_node_rate\": 1.0,\n",
      "        \"weight_mutation_rate\": 0.1,\n",
      "        \"weight_shift_rate\": 0.5\n",
      "    },\n",
      "    \"network\": {\n",
      "        \"max_connections\": 45,\n",
      "        \"max_nodes\": 30\n",
      "    },\n",
      "    \"output_size\": 2,\n",
      "    \"params\": {\n",
      "        \"population_size\": 1024,\n",
      "        \"seed\": 0,\n",
      "        \"total_generations\": 10000000.0\n",
      "    }\n",
      "}\u001b[0m\n",
      "input_size: 3\n",
      "output_size: 2\n",
      "max_nodes: 30\n",
      "node_indices: [ 0  1  2  3  4  5  6  7  8  9 10 11 12 13 14 15 16 17 18 19 20 21 22 23\n",
      " 24 25 26 27 28 29]\n",
      "node_types: [0 0 0 2 2 1 3 3 3 3 3 3 3 3 3 3 3 3 3 3 3 3 3 3 3 3 3 3 3 3]\n",
      "activation_fns: [0 0 0 0 0 0 0 0 0 0 0 0 0 0 0 0 0 0 0 0 0 0 0 0 0 0 0 0 0 0]\n",
      "senders: [  0  -1   2   0   1   2   1   5 -30 -30 -30 -30 -30 -30 -30 -30 -30 -30\n",
      " -30 -30 -30 -30 -30 -30 -30 -30 -30 -30 -30 -30]\n",
      "receivers: [  3  -3   3   4   4   4   5   3 -30 -30 -30 -30 -30 -30 -30 -30 -30 -30\n",
      " -30 -30 -30 -30 -30 -30 -30 -30 -30 -30 -30 -30]\n",
      "weights: [ 0.01878439  0.          0.06494182  0.12490594  0.024447   -0.01174496\n",
      "  0.01930772 -0.0526783   0.          0.          0.          0.\n",
      "  0.          0.          0.          0.          0.          0.\n",
      "  0.          0.          0.          0.          0.          0.\n",
      "  0.          0.          0.          0.          0.          0.        ]\n",
      " [ 1.8585097  -0.32222906]\n"
     ]
    }
   ],
   "source": [
    "OmegaConf.set_struct(config, False)\n",
    "log_config(config)\n",
    "\n",
    "config.mutations.activation_fn_mutation_rate = 1.0\n",
    "config.mutations.add_node_rate = 1.0\n",
    "\n",
    "config.input_size = INPUT_SIZE\n",
    "config.output_size = OUTPUT_SIZE\n",
    "\n",
    "key = jax.random.key(config.params.seed)\n",
    "inputs = jax.random.normal(key, (config.input_size,))\n",
    "\n",
    "net, activation_state = init_network(\n",
    "    inputs, config.output_size, config.network.max_nodes, key\n",
    ")\n",
    "mutations = Mutations(max_nodes=config.network.max_nodes, **config.mutations)\n",
    "net = mutations.add_node(key, net)\n",
    "activation_state, y = forward(inputs, net, config)\n",
    "\n",
    "print(net, y)"
   ]
  }
 ],
 "metadata": {
  "kernelspec": {
   "display_name": "neat-jax-_g-xH7G6-py3.10",
   "language": "python",
   "name": "python3"
  },
  "language_info": {
   "codemirror_mode": {
    "name": "ipython",
    "version": 3
   },
   "file_extension": ".py",
   "mimetype": "text/x-python",
   "name": "python",
   "nbconvert_exporter": "python",
   "pygments_lexer": "ipython3",
   "version": "3.10.7"
  }
 },
 "nbformat": 4,
 "nbformat_minor": 2
}
